{
 "cells": [
  {
   "cell_type": "code",
   "execution_count": 424,
   "id": "8bd5f863-2cfe-41ed-8fbf-fae57f9a9dbd",
   "metadata": {},
   "outputs": [],
   "source": [
    "#import the libraries\n",
    "import pandas as pd\n",
    "import numpy as np\n",
    "import seaborn as sns\n",
    "import datetime as dt\n",
    "import matplotlib.pyplot as plt"
   ]
  },
  {
   "cell_type": "code",
   "execution_count": 425,
   "id": "6619941a-2403-456a-91aa-35dbe5e1475a",
   "metadata": {},
   "outputs": [
    {
     "name": "stderr",
     "output_type": "stream",
     "text": [
      "C:\\Users\\V Jerry\\AppData\\Local\\Temp\\ipykernel_15692\\1504282124.py:3: DtypeWarning: Columns (47) have mixed types. Specify dtype option on import or set low_memory=False.\n",
      "  loan_df = pd.read_csv(\"loan.csv\")\n"
     ]
    },
    {
     "data": {
      "text/html": [
       "<div>\n",
       "<style scoped>\n",
       "    .dataframe tbody tr th:only-of-type {\n",
       "        vertical-align: middle;\n",
       "    }\n",
       "\n",
       "    .dataframe tbody tr th {\n",
       "        vertical-align: top;\n",
       "    }\n",
       "\n",
       "    .dataframe thead th {\n",
       "        text-align: right;\n",
       "    }\n",
       "</style>\n",
       "<table border=\"1\" class=\"dataframe\">\n",
       "  <thead>\n",
       "    <tr style=\"text-align: right;\">\n",
       "      <th></th>\n",
       "      <th>id</th>\n",
       "      <th>member_id</th>\n",
       "      <th>loan_amnt</th>\n",
       "      <th>funded_amnt</th>\n",
       "      <th>funded_amnt_inv</th>\n",
       "      <th>term</th>\n",
       "      <th>int_rate</th>\n",
       "      <th>installment</th>\n",
       "      <th>grade</th>\n",
       "      <th>sub_grade</th>\n",
       "      <th>...</th>\n",
       "      <th>num_tl_90g_dpd_24m</th>\n",
       "      <th>num_tl_op_past_12m</th>\n",
       "      <th>pct_tl_nvr_dlq</th>\n",
       "      <th>percent_bc_gt_75</th>\n",
       "      <th>pub_rec_bankruptcies</th>\n",
       "      <th>tax_liens</th>\n",
       "      <th>tot_hi_cred_lim</th>\n",
       "      <th>total_bal_ex_mort</th>\n",
       "      <th>total_bc_limit</th>\n",
       "      <th>total_il_high_credit_limit</th>\n",
       "    </tr>\n",
       "  </thead>\n",
       "  <tbody>\n",
       "    <tr>\n",
       "      <th>0</th>\n",
       "      <td>1077501</td>\n",
       "      <td>1296599</td>\n",
       "      <td>5000</td>\n",
       "      <td>5000</td>\n",
       "      <td>4975.0</td>\n",
       "      <td>36 months</td>\n",
       "      <td>10.65%</td>\n",
       "      <td>162.87</td>\n",
       "      <td>B</td>\n",
       "      <td>B2</td>\n",
       "      <td>...</td>\n",
       "      <td>NaN</td>\n",
       "      <td>NaN</td>\n",
       "      <td>NaN</td>\n",
       "      <td>NaN</td>\n",
       "      <td>0.0</td>\n",
       "      <td>0.0</td>\n",
       "      <td>NaN</td>\n",
       "      <td>NaN</td>\n",
       "      <td>NaN</td>\n",
       "      <td>NaN</td>\n",
       "    </tr>\n",
       "    <tr>\n",
       "      <th>1</th>\n",
       "      <td>1077430</td>\n",
       "      <td>1314167</td>\n",
       "      <td>2500</td>\n",
       "      <td>2500</td>\n",
       "      <td>2500.0</td>\n",
       "      <td>60 months</td>\n",
       "      <td>15.27%</td>\n",
       "      <td>59.83</td>\n",
       "      <td>C</td>\n",
       "      <td>C4</td>\n",
       "      <td>...</td>\n",
       "      <td>NaN</td>\n",
       "      <td>NaN</td>\n",
       "      <td>NaN</td>\n",
       "      <td>NaN</td>\n",
       "      <td>0.0</td>\n",
       "      <td>0.0</td>\n",
       "      <td>NaN</td>\n",
       "      <td>NaN</td>\n",
       "      <td>NaN</td>\n",
       "      <td>NaN</td>\n",
       "    </tr>\n",
       "    <tr>\n",
       "      <th>2</th>\n",
       "      <td>1077175</td>\n",
       "      <td>1313524</td>\n",
       "      <td>2400</td>\n",
       "      <td>2400</td>\n",
       "      <td>2400.0</td>\n",
       "      <td>36 months</td>\n",
       "      <td>15.96%</td>\n",
       "      <td>84.33</td>\n",
       "      <td>C</td>\n",
       "      <td>C5</td>\n",
       "      <td>...</td>\n",
       "      <td>NaN</td>\n",
       "      <td>NaN</td>\n",
       "      <td>NaN</td>\n",
       "      <td>NaN</td>\n",
       "      <td>0.0</td>\n",
       "      <td>0.0</td>\n",
       "      <td>NaN</td>\n",
       "      <td>NaN</td>\n",
       "      <td>NaN</td>\n",
       "      <td>NaN</td>\n",
       "    </tr>\n",
       "    <tr>\n",
       "      <th>3</th>\n",
       "      <td>1076863</td>\n",
       "      <td>1277178</td>\n",
       "      <td>10000</td>\n",
       "      <td>10000</td>\n",
       "      <td>10000.0</td>\n",
       "      <td>36 months</td>\n",
       "      <td>13.49%</td>\n",
       "      <td>339.31</td>\n",
       "      <td>C</td>\n",
       "      <td>C1</td>\n",
       "      <td>...</td>\n",
       "      <td>NaN</td>\n",
       "      <td>NaN</td>\n",
       "      <td>NaN</td>\n",
       "      <td>NaN</td>\n",
       "      <td>0.0</td>\n",
       "      <td>0.0</td>\n",
       "      <td>NaN</td>\n",
       "      <td>NaN</td>\n",
       "      <td>NaN</td>\n",
       "      <td>NaN</td>\n",
       "    </tr>\n",
       "    <tr>\n",
       "      <th>4</th>\n",
       "      <td>1075358</td>\n",
       "      <td>1311748</td>\n",
       "      <td>3000</td>\n",
       "      <td>3000</td>\n",
       "      <td>3000.0</td>\n",
       "      <td>60 months</td>\n",
       "      <td>12.69%</td>\n",
       "      <td>67.79</td>\n",
       "      <td>B</td>\n",
       "      <td>B5</td>\n",
       "      <td>...</td>\n",
       "      <td>NaN</td>\n",
       "      <td>NaN</td>\n",
       "      <td>NaN</td>\n",
       "      <td>NaN</td>\n",
       "      <td>0.0</td>\n",
       "      <td>0.0</td>\n",
       "      <td>NaN</td>\n",
       "      <td>NaN</td>\n",
       "      <td>NaN</td>\n",
       "      <td>NaN</td>\n",
       "    </tr>\n",
       "  </tbody>\n",
       "</table>\n",
       "<p>5 rows × 111 columns</p>\n",
       "</div>"
      ],
      "text/plain": [
       "        id  member_id  loan_amnt  funded_amnt  funded_amnt_inv        term  \\\n",
       "0  1077501    1296599       5000         5000           4975.0   36 months   \n",
       "1  1077430    1314167       2500         2500           2500.0   60 months   \n",
       "2  1077175    1313524       2400         2400           2400.0   36 months   \n",
       "3  1076863    1277178      10000        10000          10000.0   36 months   \n",
       "4  1075358    1311748       3000         3000           3000.0   60 months   \n",
       "\n",
       "  int_rate  installment grade sub_grade  ... num_tl_90g_dpd_24m  \\\n",
       "0   10.65%       162.87     B        B2  ...                NaN   \n",
       "1   15.27%        59.83     C        C4  ...                NaN   \n",
       "2   15.96%        84.33     C        C5  ...                NaN   \n",
       "3   13.49%       339.31     C        C1  ...                NaN   \n",
       "4   12.69%        67.79     B        B5  ...                NaN   \n",
       "\n",
       "  num_tl_op_past_12m pct_tl_nvr_dlq  percent_bc_gt_75 pub_rec_bankruptcies  \\\n",
       "0                NaN            NaN               NaN                  0.0   \n",
       "1                NaN            NaN               NaN                  0.0   \n",
       "2                NaN            NaN               NaN                  0.0   \n",
       "3                NaN            NaN               NaN                  0.0   \n",
       "4                NaN            NaN               NaN                  0.0   \n",
       "\n",
       "  tax_liens tot_hi_cred_lim total_bal_ex_mort total_bc_limit  \\\n",
       "0       0.0             NaN               NaN            NaN   \n",
       "1       0.0             NaN               NaN            NaN   \n",
       "2       0.0             NaN               NaN            NaN   \n",
       "3       0.0             NaN               NaN            NaN   \n",
       "4       0.0             NaN               NaN            NaN   \n",
       "\n",
       "  total_il_high_credit_limit  \n",
       "0                        NaN  \n",
       "1                        NaN  \n",
       "2                        NaN  \n",
       "3                        NaN  \n",
       "4                        NaN  \n",
       "\n",
       "[5 rows x 111 columns]"
      ]
     },
     "execution_count": 425,
     "metadata": {},
     "output_type": "execute_result"
    }
   ],
   "source": [
    "#read the dataset and check the first five rows\n",
    "#check whether we have any header rows\n",
    "loan_df = pd.read_csv(\"loan.csv\")\n",
    "loan_df.head()"
   ]
  },
  {
   "cell_type": "code",
   "execution_count": 426,
   "id": "19b9a8db-e2b6-4cea-ba6c-82e1ca498ada",
   "metadata": {},
   "outputs": [
    {
     "data": {
      "text/html": [
       "<div>\n",
       "<style scoped>\n",
       "    .dataframe tbody tr th:only-of-type {\n",
       "        vertical-align: middle;\n",
       "    }\n",
       "\n",
       "    .dataframe tbody tr th {\n",
       "        vertical-align: top;\n",
       "    }\n",
       "\n",
       "    .dataframe thead th {\n",
       "        text-align: right;\n",
       "    }\n",
       "</style>\n",
       "<table border=\"1\" class=\"dataframe\">\n",
       "  <thead>\n",
       "    <tr style=\"text-align: right;\">\n",
       "      <th></th>\n",
       "      <th>id</th>\n",
       "      <th>member_id</th>\n",
       "      <th>loan_amnt</th>\n",
       "      <th>funded_amnt</th>\n",
       "      <th>funded_amnt_inv</th>\n",
       "      <th>term</th>\n",
       "      <th>int_rate</th>\n",
       "      <th>installment</th>\n",
       "      <th>grade</th>\n",
       "      <th>sub_grade</th>\n",
       "      <th>...</th>\n",
       "      <th>num_tl_90g_dpd_24m</th>\n",
       "      <th>num_tl_op_past_12m</th>\n",
       "      <th>pct_tl_nvr_dlq</th>\n",
       "      <th>percent_bc_gt_75</th>\n",
       "      <th>pub_rec_bankruptcies</th>\n",
       "      <th>tax_liens</th>\n",
       "      <th>tot_hi_cred_lim</th>\n",
       "      <th>total_bal_ex_mort</th>\n",
       "      <th>total_bc_limit</th>\n",
       "      <th>total_il_high_credit_limit</th>\n",
       "    </tr>\n",
       "  </thead>\n",
       "  <tbody>\n",
       "    <tr>\n",
       "      <th>39712</th>\n",
       "      <td>92187</td>\n",
       "      <td>92174</td>\n",
       "      <td>2500</td>\n",
       "      <td>2500</td>\n",
       "      <td>1075.0</td>\n",
       "      <td>36 months</td>\n",
       "      <td>8.07%</td>\n",
       "      <td>78.42</td>\n",
       "      <td>A</td>\n",
       "      <td>A4</td>\n",
       "      <td>...</td>\n",
       "      <td>NaN</td>\n",
       "      <td>NaN</td>\n",
       "      <td>NaN</td>\n",
       "      <td>NaN</td>\n",
       "      <td>NaN</td>\n",
       "      <td>NaN</td>\n",
       "      <td>NaN</td>\n",
       "      <td>NaN</td>\n",
       "      <td>NaN</td>\n",
       "      <td>NaN</td>\n",
       "    </tr>\n",
       "    <tr>\n",
       "      <th>39713</th>\n",
       "      <td>90665</td>\n",
       "      <td>90607</td>\n",
       "      <td>8500</td>\n",
       "      <td>8500</td>\n",
       "      <td>875.0</td>\n",
       "      <td>36 months</td>\n",
       "      <td>10.28%</td>\n",
       "      <td>275.38</td>\n",
       "      <td>C</td>\n",
       "      <td>C1</td>\n",
       "      <td>...</td>\n",
       "      <td>NaN</td>\n",
       "      <td>NaN</td>\n",
       "      <td>NaN</td>\n",
       "      <td>NaN</td>\n",
       "      <td>NaN</td>\n",
       "      <td>NaN</td>\n",
       "      <td>NaN</td>\n",
       "      <td>NaN</td>\n",
       "      <td>NaN</td>\n",
       "      <td>NaN</td>\n",
       "    </tr>\n",
       "    <tr>\n",
       "      <th>39714</th>\n",
       "      <td>90395</td>\n",
       "      <td>90390</td>\n",
       "      <td>5000</td>\n",
       "      <td>5000</td>\n",
       "      <td>1325.0</td>\n",
       "      <td>36 months</td>\n",
       "      <td>8.07%</td>\n",
       "      <td>156.84</td>\n",
       "      <td>A</td>\n",
       "      <td>A4</td>\n",
       "      <td>...</td>\n",
       "      <td>NaN</td>\n",
       "      <td>NaN</td>\n",
       "      <td>NaN</td>\n",
       "      <td>NaN</td>\n",
       "      <td>NaN</td>\n",
       "      <td>NaN</td>\n",
       "      <td>NaN</td>\n",
       "      <td>NaN</td>\n",
       "      <td>NaN</td>\n",
       "      <td>NaN</td>\n",
       "    </tr>\n",
       "    <tr>\n",
       "      <th>39715</th>\n",
       "      <td>90376</td>\n",
       "      <td>89243</td>\n",
       "      <td>5000</td>\n",
       "      <td>5000</td>\n",
       "      <td>650.0</td>\n",
       "      <td>36 months</td>\n",
       "      <td>7.43%</td>\n",
       "      <td>155.38</td>\n",
       "      <td>A</td>\n",
       "      <td>A2</td>\n",
       "      <td>...</td>\n",
       "      <td>NaN</td>\n",
       "      <td>NaN</td>\n",
       "      <td>NaN</td>\n",
       "      <td>NaN</td>\n",
       "      <td>NaN</td>\n",
       "      <td>NaN</td>\n",
       "      <td>NaN</td>\n",
       "      <td>NaN</td>\n",
       "      <td>NaN</td>\n",
       "      <td>NaN</td>\n",
       "    </tr>\n",
       "    <tr>\n",
       "      <th>39716</th>\n",
       "      <td>87023</td>\n",
       "      <td>86999</td>\n",
       "      <td>7500</td>\n",
       "      <td>7500</td>\n",
       "      <td>800.0</td>\n",
       "      <td>36 months</td>\n",
       "      <td>13.75%</td>\n",
       "      <td>255.43</td>\n",
       "      <td>E</td>\n",
       "      <td>E2</td>\n",
       "      <td>...</td>\n",
       "      <td>NaN</td>\n",
       "      <td>NaN</td>\n",
       "      <td>NaN</td>\n",
       "      <td>NaN</td>\n",
       "      <td>NaN</td>\n",
       "      <td>NaN</td>\n",
       "      <td>NaN</td>\n",
       "      <td>NaN</td>\n",
       "      <td>NaN</td>\n",
       "      <td>NaN</td>\n",
       "    </tr>\n",
       "  </tbody>\n",
       "</table>\n",
       "<p>5 rows × 111 columns</p>\n",
       "</div>"
      ],
      "text/plain": [
       "          id  member_id  loan_amnt  funded_amnt  funded_amnt_inv        term  \\\n",
       "39712  92187      92174       2500         2500           1075.0   36 months   \n",
       "39713  90665      90607       8500         8500            875.0   36 months   \n",
       "39714  90395      90390       5000         5000           1325.0   36 months   \n",
       "39715  90376      89243       5000         5000            650.0   36 months   \n",
       "39716  87023      86999       7500         7500            800.0   36 months   \n",
       "\n",
       "      int_rate  installment grade sub_grade  ... num_tl_90g_dpd_24m  \\\n",
       "39712    8.07%        78.42     A        A4  ...                NaN   \n",
       "39713   10.28%       275.38     C        C1  ...                NaN   \n",
       "39714    8.07%       156.84     A        A4  ...                NaN   \n",
       "39715    7.43%       155.38     A        A2  ...                NaN   \n",
       "39716   13.75%       255.43     E        E2  ...                NaN   \n",
       "\n",
       "      num_tl_op_past_12m pct_tl_nvr_dlq  percent_bc_gt_75  \\\n",
       "39712                NaN            NaN               NaN   \n",
       "39713                NaN            NaN               NaN   \n",
       "39714                NaN            NaN               NaN   \n",
       "39715                NaN            NaN               NaN   \n",
       "39716                NaN            NaN               NaN   \n",
       "\n",
       "      pub_rec_bankruptcies tax_liens tot_hi_cred_lim total_bal_ex_mort  \\\n",
       "39712                  NaN       NaN             NaN               NaN   \n",
       "39713                  NaN       NaN             NaN               NaN   \n",
       "39714                  NaN       NaN             NaN               NaN   \n",
       "39715                  NaN       NaN             NaN               NaN   \n",
       "39716                  NaN       NaN             NaN               NaN   \n",
       "\n",
       "      total_bc_limit total_il_high_credit_limit  \n",
       "39712            NaN                        NaN  \n",
       "39713            NaN                        NaN  \n",
       "39714            NaN                        NaN  \n",
       "39715            NaN                        NaN  \n",
       "39716            NaN                        NaN  \n",
       "\n",
       "[5 rows x 111 columns]"
      ]
     },
     "execution_count": 426,
     "metadata": {},
     "output_type": "execute_result"
    }
   ],
   "source": [
    "#check whether we have any footer rows\n",
    "loan_df.tail()"
   ]
  },
  {
   "cell_type": "code",
   "execution_count": 427,
   "id": "bc3ec3c9-fe34-4689-a1cd-e312a1b34d5e",
   "metadata": {},
   "outputs": [
    {
     "name": "stdout",
     "output_type": "stream",
     "text": [
      "<class 'pandas.core.frame.DataFrame'>\n",
      "RangeIndex: 39717 entries, 0 to 39716\n",
      "Columns: 111 entries, id to total_il_high_credit_limit\n",
      "dtypes: float64(74), int64(13), object(24)\n",
      "memory usage: 33.6+ MB\n"
     ]
    }
   ],
   "source": [
    "#Check the datatypes of all the columns of the dataframe\n",
    "loan_df.info()"
   ]
  },
  {
   "cell_type": "code",
   "execution_count": 428,
   "id": "6f04f3ca-fe17-4de4-baf5-c7d8c4e45a37",
   "metadata": {},
   "outputs": [
    {
     "data": {
      "text/plain": [
       "(39717, 111)"
      ]
     },
     "execution_count": 428,
     "metadata": {},
     "output_type": "execute_result"
    }
   ],
   "source": [
    "#check the shape of the dataset\n",
    "loan_df.shape"
   ]
  },
  {
   "cell_type": "code",
   "execution_count": 429,
   "id": "aa50ab59-e192-4bf7-9adc-614a0ddbf1cb",
   "metadata": {},
   "outputs": [
    {
     "name": "stdout",
     "output_type": "stream",
     "text": [
      "id                              0.000000\n",
      "member_id                       0.000000\n",
      "loan_amnt                       0.000000\n",
      "funded_amnt                     0.000000\n",
      "funded_amnt_inv                 0.000000\n",
      "                                 ...    \n",
      "tax_liens                       0.098195\n",
      "tot_hi_cred_lim               100.000000\n",
      "total_bal_ex_mort             100.000000\n",
      "total_bc_limit                100.000000\n",
      "total_il_high_credit_limit    100.000000\n",
      "Length: 111, dtype: float64\n"
     ]
    }
   ],
   "source": [
    "#Check the percentage of null values in each column\n",
    "null_percentage = (loan_df.isnull().sum() / len(loan_df)) * 100\n",
    "print(null_percentage)"
   ]
  },
  {
   "cell_type": "code",
   "execution_count": 430,
   "id": "d0f1e090-7c5b-4393-8cd5-4a6fb1b734f7",
   "metadata": {},
   "outputs": [],
   "source": [
    "#Drop all colmuns that has 100% null values \n",
    "loan = loan_df.dropna(axis=1, how='all')"
   ]
  },
  {
   "cell_type": "code",
   "execution_count": 431,
   "id": "8b2d4028-2219-4c8d-9d32-47b48c768bd0",
   "metadata": {},
   "outputs": [
    {
     "data": {
      "text/plain": [
       "(39717, 57)"
      ]
     },
     "execution_count": 431,
     "metadata": {},
     "output_type": "execute_result"
    }
   ],
   "source": [
    "#check the shape of the dataset\n",
    "loan.shape"
   ]
  },
  {
   "cell_type": "code",
   "execution_count": 432,
   "id": "771b17d2-a6aa-4bc2-9e1c-4ea348c71cfd",
   "metadata": {},
   "outputs": [
    {
     "data": {
      "text/plain": [
       "id                            39717\n",
       "member_id                     39717\n",
       "loan_amnt                       885\n",
       "funded_amnt                    1041\n",
       "funded_amnt_inv                8205\n",
       "term                              2\n",
       "int_rate                        371\n",
       "installment                   15383\n",
       "grade                             7\n",
       "sub_grade                        35\n",
       "emp_title                     28820\n",
       "emp_length                       11\n",
       "home_ownership                    5\n",
       "annual_inc                     5318\n",
       "verification_status               3\n",
       "issue_d                          55\n",
       "loan_status                       3\n",
       "pymnt_plan                        1\n",
       "url                           39717\n",
       "desc                          26526\n",
       "purpose                          14\n",
       "title                         19615\n",
       "zip_code                        823\n",
       "addr_state                       50\n",
       "dti                            2868\n",
       "delinq_2yrs                      11\n",
       "earliest_cr_line                526\n",
       "inq_last_6mths                    9\n",
       "mths_since_last_delinq           95\n",
       "mths_since_last_record          111\n",
       "open_acc                         40\n",
       "pub_rec                           5\n",
       "revol_bal                     21711\n",
       "revol_util                     1089\n",
       "total_acc                        82\n",
       "initial_list_status               1\n",
       "out_prncp                      1137\n",
       "out_prncp_inv                  1138\n",
       "total_pymnt                   37850\n",
       "total_pymnt_inv               37518\n",
       "total_rec_prncp                7976\n",
       "total_rec_int                 35148\n",
       "total_rec_late_fee             1356\n",
       "recoveries                     4040\n",
       "collection_recovery_fee        2616\n",
       "last_pymnt_d                    101\n",
       "last_pymnt_amnt               34930\n",
       "next_pymnt_d                      2\n",
       "last_credit_pull_d              106\n",
       "collections_12_mths_ex_med        1\n",
       "policy_code                       1\n",
       "application_type                  1\n",
       "acc_now_delinq                    1\n",
       "chargeoff_within_12_mths          1\n",
       "delinq_amnt                       1\n",
       "pub_rec_bankruptcies              3\n",
       "tax_liens                         1\n",
       "dtype: int64"
      ]
     },
     "execution_count": 432,
     "metadata": {},
     "output_type": "execute_result"
    }
   ],
   "source": [
    "#Check no of unique values in a column\n",
    "loan.nunique()"
   ]
  },
  {
   "cell_type": "code",
   "execution_count": 433,
   "id": "a02d8a25-b8d4-47d7-b2e9-6ad9d11180de",
   "metadata": {},
   "outputs": [],
   "source": [
    "#Drop columns that has only one unique value as this doesn't impact our analysis\n",
    "loan = loan.loc[:, loan.nunique() > 1]"
   ]
  },
  {
   "cell_type": "code",
   "execution_count": 434,
   "id": "20267362-96e1-494c-8e15-c84bd8225a97",
   "metadata": {},
   "outputs": [
    {
     "data": {
      "text/plain": [
       "(39717, 48)"
      ]
     },
     "execution_count": 434,
     "metadata": {},
     "output_type": "execute_result"
    }
   ],
   "source": [
    "#check the shape of the dataset\n",
    "loan.shape"
   ]
  },
  {
   "cell_type": "code",
   "execution_count": 435,
   "id": "90dcaabd-c84a-45b3-8969-2e3a93e31156",
   "metadata": {},
   "outputs": [
    {
     "data": {
      "text/plain": [
       "id                             0\n",
       "delinq_2yrs                    0\n",
       "earliest_cr_line               0\n",
       "inq_last_6mths                 0\n",
       "open_acc                       0\n",
       "pub_rec                        0\n",
       "revol_bal                      0\n",
       "total_acc                      0\n",
       "out_prncp                      0\n",
       "out_prncp_inv                  0\n",
       "total_pymnt                    0\n",
       "total_pymnt_inv                0\n",
       "total_rec_prncp                0\n",
       "total_rec_int                  0\n",
       "total_rec_late_fee             0\n",
       "recoveries                     0\n",
       "collection_recovery_fee        0\n",
       "last_pymnt_amnt                0\n",
       "addr_state                     0\n",
       "zip_code                       0\n",
       "dti                            0\n",
       "purpose                        0\n",
       "int_rate                       0\n",
       "installment                    0\n",
       "grade                          0\n",
       "sub_grade                      0\n",
       "funded_amnt                    0\n",
       "home_ownership                 0\n",
       "term                           0\n",
       "annual_inc                     0\n",
       "loan_amnt                      0\n",
       "issue_d                        0\n",
       "loan_status                    0\n",
       "url                            0\n",
       "member_id                      0\n",
       "verification_status            0\n",
       "funded_amnt_inv                0\n",
       "last_credit_pull_d             2\n",
       "title                         11\n",
       "revol_util                    50\n",
       "last_pymnt_d                  71\n",
       "pub_rec_bankruptcies         697\n",
       "emp_length                  1075\n",
       "emp_title                   2459\n",
       "desc                       12942\n",
       "mths_since_last_delinq     25682\n",
       "mths_since_last_record     36931\n",
       "next_pymnt_d               38577\n",
       "dtype: int64"
      ]
     },
     "execution_count": 435,
     "metadata": {},
     "output_type": "execute_result"
    }
   ],
   "source": [
    "#Check count of values in each columns\n",
    "loan.isnull().sum().sort_values()"
   ]
  },
  {
   "cell_type": "code",
   "execution_count": 436,
   "id": "0ef95669-7318-4c98-9f56-3685274dcdde",
   "metadata": {},
   "outputs": [],
   "source": [
    "#Drop columns that has null values more than 25% of it's total rows\n",
    "loan = loan.dropna(axis=1, thresh=(len(loan) * 0.75))"
   ]
  },
  {
   "cell_type": "code",
   "execution_count": 437,
   "id": "eeb91f79-0e8e-4a6c-814a-905a4f2b3f4a",
   "metadata": {},
   "outputs": [
    {
     "data": {
      "text/plain": [
       "(39717, 44)"
      ]
     },
     "execution_count": 437,
     "metadata": {},
     "output_type": "execute_result"
    }
   ],
   "source": [
    "#check the shape of the dataset\n",
    "loan.shape"
   ]
  },
  {
   "cell_type": "code",
   "execution_count": 438,
   "id": "4b2998fa-28b4-4f9a-9442-7e4ee495cbab",
   "metadata": {},
   "outputs": [
    {
     "data": {
      "text/plain": [
       "term                           2\n",
       "pub_rec_bankruptcies           3\n",
       "loan_status                    3\n",
       "verification_status            3\n",
       "pub_rec                        5\n",
       "home_ownership                 5\n",
       "grade                          7\n",
       "inq_last_6mths                 9\n",
       "delinq_2yrs                   11\n",
       "emp_length                    11\n",
       "purpose                       14\n",
       "sub_grade                     35\n",
       "open_acc                      40\n",
       "addr_state                    50\n",
       "issue_d                       55\n",
       "total_acc                     82\n",
       "last_pymnt_d                 101\n",
       "last_credit_pull_d           106\n",
       "int_rate                     371\n",
       "earliest_cr_line             526\n",
       "zip_code                     823\n",
       "loan_amnt                    885\n",
       "funded_amnt                 1041\n",
       "revol_util                  1089\n",
       "out_prncp                   1137\n",
       "out_prncp_inv               1138\n",
       "total_rec_late_fee          1356\n",
       "collection_recovery_fee     2616\n",
       "dti                         2868\n",
       "recoveries                  4040\n",
       "annual_inc                  5318\n",
       "total_rec_prncp             7976\n",
       "funded_amnt_inv             8205\n",
       "installment                15383\n",
       "title                      19615\n",
       "revol_bal                  21711\n",
       "emp_title                  28820\n",
       "last_pymnt_amnt            34930\n",
       "total_rec_int              35148\n",
       "total_pymnt_inv            37518\n",
       "total_pymnt                37850\n",
       "member_id                  39717\n",
       "url                        39717\n",
       "id                         39717\n",
       "dtype: int64"
      ]
     },
     "execution_count": 438,
     "metadata": {},
     "output_type": "execute_result"
    }
   ],
   "source": [
    "#Check for Unique Values\n",
    "loan.nunique().sort_values()"
   ]
  },
  {
   "cell_type": "code",
   "execution_count": 439,
   "id": "cfadab47-0881-4ef5-b269-8f7e0d3916c8",
   "metadata": {},
   "outputs": [
    {
     "data": {
      "text/plain": [
       "(39717, 41)"
      ]
     },
     "execution_count": 439,
     "metadata": {},
     "output_type": "execute_result"
    }
   ],
   "source": [
    "#Drop columns that has all values as unique as it will help us in our analysis\n",
    "loan.drop(columns=['id','url','member_id'], inplace=True)\n",
    "loan.shape"
   ]
  },
  {
   "cell_type": "code",
   "execution_count": 440,
   "id": "300090fb-a6b2-4840-a41c-e53e7c562dda",
   "metadata": {},
   "outputs": [
    {
     "data": {
      "text/plain": [
       "(39717, 39)"
      ]
     },
     "execution_count": 440,
     "metadata": {},
     "output_type": "execute_result"
    }
   ],
   "source": [
    "#Also drop columns that have description - texts that are not useful\n",
    "loan.drop(columns=['title','emp_title'], inplace=True)\n",
    "loan.shape"
   ]
  },
  {
   "cell_type": "code",
   "execution_count": 441,
   "id": "6c194fa7-689c-4833-8b67-08ea3b68cf3c",
   "metadata": {},
   "outputs": [
    {
     "data": {
      "text/plain": [
       "loan_status\n",
       "Fully Paid     32950\n",
       "Charged Off     5627\n",
       "Current         1140\n",
       "Name: count, dtype: int64"
      ]
     },
     "execution_count": 441,
     "metadata": {},
     "output_type": "execute_result"
    }
   ],
   "source": [
    "#Check the status of the loans\n",
    "loan['loan_status'].value_counts()"
   ]
  },
  {
   "cell_type": "code",
   "execution_count": 442,
   "id": "b0e20f92-09b8-43e7-bbc8-d65ec1b372f5",
   "metadata": {},
   "outputs": [],
   "source": [
    "#Currebt Loans can be excluded as it will not help us in determining the outcome of the loan\n",
    "loan = loan[~(loan['loan_status'] == 'Current')]"
   ]
  },
  {
   "cell_type": "code",
   "execution_count": 443,
   "id": "4c3b30df-e3f6-435e-8493-a55dad0bae7d",
   "metadata": {},
   "outputs": [
    {
     "data": {
      "text/plain": [
       "(38577, 39)"
      ]
     },
     "execution_count": 443,
     "metadata": {},
     "output_type": "execute_result"
    }
   ],
   "source": [
    "#check the shape of the dataset\n",
    "loan.shape"
   ]
  },
  {
   "cell_type": "code",
   "execution_count": 444,
   "id": "78367bbd-3bfa-4cd4-9476-4c586747bb0b",
   "metadata": {},
   "outputs": [
    {
     "data": {
      "text/plain": [
       "out_prncp_inv                  1\n",
       "out_prncp                      1\n",
       "term                           2\n",
       "loan_status                    2\n",
       "pub_rec_bankruptcies           3\n",
       "verification_status            3\n",
       "pub_rec                        5\n",
       "home_ownership                 5\n",
       "grade                          7\n",
       "inq_last_6mths                 9\n",
       "delinq_2yrs                   11\n",
       "emp_length                    11\n",
       "purpose                       14\n",
       "sub_grade                     35\n",
       "open_acc                      40\n",
       "addr_state                    50\n",
       "issue_d                       55\n",
       "total_acc                     82\n",
       "last_pymnt_d                 101\n",
       "last_credit_pull_d           106\n",
       "int_rate                     370\n",
       "earliest_cr_line             524\n",
       "zip_code                     822\n",
       "loan_amnt                    870\n",
       "funded_amnt                 1019\n",
       "revol_util                  1088\n",
       "total_rec_late_fee          1320\n",
       "collection_recovery_fee     2616\n",
       "dti                         2853\n",
       "recoveries                  4040\n",
       "annual_inc                  5215\n",
       "total_rec_prncp             6841\n",
       "funded_amnt_inv             8050\n",
       "installment                15022\n",
       "revol_bal                  21275\n",
       "total_rec_int              34025\n",
       "last_pymnt_amnt            34418\n",
       "total_pymnt_inv            36387\n",
       "total_pymnt                36714\n",
       "dtype: int64"
      ]
     },
     "execution_count": 444,
     "metadata": {},
     "output_type": "execute_result"
    }
   ],
   "source": [
    "#after removing current ongoing loans, let us check whether there are any orrelevant columns \n",
    "loan.nunique().sort_values()"
   ]
  },
  {
   "cell_type": "code",
   "execution_count": 445,
   "id": "21d0893d-a149-4459-abc1-fe68594606f4",
   "metadata": {},
   "outputs": [],
   "source": [
    "#Again drop columns that has only one unique value as this doesn't impact our analysis\n",
    "loan = loan.loc[:, loan.nunique() > 1]"
   ]
  },
  {
   "cell_type": "code",
   "execution_count": 446,
   "id": "992a251b-48ee-423e-9b2f-74554948811b",
   "metadata": {},
   "outputs": [
    {
     "data": {
      "text/plain": [
       "(38577, 37)"
      ]
     },
     "execution_count": 446,
     "metadata": {},
     "output_type": "execute_result"
    }
   ],
   "source": [
    "#check the shape of the dataset\n",
    "loan.shape"
   ]
  },
  {
   "cell_type": "code",
   "execution_count": 447,
   "id": "f51734a8-4e56-4bbe-b8ea-61f6ceeec88e",
   "metadata": {},
   "outputs": [
    {
     "data": {
      "text/html": [
       "<div>\n",
       "<style scoped>\n",
       "    .dataframe tbody tr th:only-of-type {\n",
       "        vertical-align: middle;\n",
       "    }\n",
       "\n",
       "    .dataframe tbody tr th {\n",
       "        vertical-align: top;\n",
       "    }\n",
       "\n",
       "    .dataframe thead th {\n",
       "        text-align: right;\n",
       "    }\n",
       "</style>\n",
       "<table border=\"1\" class=\"dataframe\">\n",
       "  <thead>\n",
       "    <tr style=\"text-align: right;\">\n",
       "      <th></th>\n",
       "      <th>loan_amnt</th>\n",
       "      <th>funded_amnt</th>\n",
       "      <th>funded_amnt_inv</th>\n",
       "      <th>installment</th>\n",
       "      <th>annual_inc</th>\n",
       "      <th>dti</th>\n",
       "      <th>delinq_2yrs</th>\n",
       "      <th>inq_last_6mths</th>\n",
       "      <th>open_acc</th>\n",
       "      <th>pub_rec</th>\n",
       "      <th>...</th>\n",
       "      <th>total_acc</th>\n",
       "      <th>total_pymnt</th>\n",
       "      <th>total_pymnt_inv</th>\n",
       "      <th>total_rec_prncp</th>\n",
       "      <th>total_rec_int</th>\n",
       "      <th>total_rec_late_fee</th>\n",
       "      <th>recoveries</th>\n",
       "      <th>collection_recovery_fee</th>\n",
       "      <th>last_pymnt_amnt</th>\n",
       "      <th>pub_rec_bankruptcies</th>\n",
       "    </tr>\n",
       "  </thead>\n",
       "  <tbody>\n",
       "    <tr>\n",
       "      <th>count</th>\n",
       "      <td>38577.000000</td>\n",
       "      <td>38577.000000</td>\n",
       "      <td>38577.000000</td>\n",
       "      <td>38577.000000</td>\n",
       "      <td>3.857700e+04</td>\n",
       "      <td>38577.000000</td>\n",
       "      <td>38577.000000</td>\n",
       "      <td>38577.000000</td>\n",
       "      <td>38577.000000</td>\n",
       "      <td>38577.000000</td>\n",
       "      <td>...</td>\n",
       "      <td>38577.000000</td>\n",
       "      <td>38577.000000</td>\n",
       "      <td>38577.000000</td>\n",
       "      <td>38577.000000</td>\n",
       "      <td>38577.000000</td>\n",
       "      <td>38577.000000</td>\n",
       "      <td>38577.000000</td>\n",
       "      <td>38577.000000</td>\n",
       "      <td>38577.000000</td>\n",
       "      <td>37880.000000</td>\n",
       "    </tr>\n",
       "    <tr>\n",
       "      <th>mean</th>\n",
       "      <td>11047.025430</td>\n",
       "      <td>10784.058506</td>\n",
       "      <td>10222.481123</td>\n",
       "      <td>322.466318</td>\n",
       "      <td>6.877797e+04</td>\n",
       "      <td>13.272727</td>\n",
       "      <td>0.146668</td>\n",
       "      <td>0.871737</td>\n",
       "      <td>9.275423</td>\n",
       "      <td>0.055422</td>\n",
       "      <td>...</td>\n",
       "      <td>22.052648</td>\n",
       "      <td>11866.970365</td>\n",
       "      <td>11271.196153</td>\n",
       "      <td>9648.322898</td>\n",
       "      <td>2119.243370</td>\n",
       "      <td>1.368634</td>\n",
       "      <td>98.035545</td>\n",
       "      <td>12.772728</td>\n",
       "      <td>2746.243218</td>\n",
       "      <td>0.043479</td>\n",
       "    </tr>\n",
       "    <tr>\n",
       "      <th>std</th>\n",
       "      <td>7348.441646</td>\n",
       "      <td>7090.306027</td>\n",
       "      <td>7022.720644</td>\n",
       "      <td>208.639215</td>\n",
       "      <td>6.421868e+04</td>\n",
       "      <td>6.673044</td>\n",
       "      <td>0.492271</td>\n",
       "      <td>1.071546</td>\n",
       "      <td>4.401588</td>\n",
       "      <td>0.237804</td>\n",
       "      <td>...</td>\n",
       "      <td>11.425861</td>\n",
       "      <td>8809.856227</td>\n",
       "      <td>8700.845592</td>\n",
       "      <td>7009.381200</td>\n",
       "      <td>2389.499511</td>\n",
       "      <td>7.315880</td>\n",
       "      <td>698.650182</td>\n",
       "      <td>150.836853</td>\n",
       "      <td>4494.648131</td>\n",
       "      <td>0.204583</td>\n",
       "    </tr>\n",
       "    <tr>\n",
       "      <th>min</th>\n",
       "      <td>500.000000</td>\n",
       "      <td>500.000000</td>\n",
       "      <td>0.000000</td>\n",
       "      <td>15.690000</td>\n",
       "      <td>4.000000e+03</td>\n",
       "      <td>0.000000</td>\n",
       "      <td>0.000000</td>\n",
       "      <td>0.000000</td>\n",
       "      <td>2.000000</td>\n",
       "      <td>0.000000</td>\n",
       "      <td>...</td>\n",
       "      <td>2.000000</td>\n",
       "      <td>0.000000</td>\n",
       "      <td>0.000000</td>\n",
       "      <td>0.000000</td>\n",
       "      <td>0.000000</td>\n",
       "      <td>0.000000</td>\n",
       "      <td>0.000000</td>\n",
       "      <td>0.000000</td>\n",
       "      <td>0.000000</td>\n",
       "      <td>0.000000</td>\n",
       "    </tr>\n",
       "    <tr>\n",
       "      <th>25%</th>\n",
       "      <td>5300.000000</td>\n",
       "      <td>5200.000000</td>\n",
       "      <td>5000.000000</td>\n",
       "      <td>165.740000</td>\n",
       "      <td>4.000000e+04</td>\n",
       "      <td>8.130000</td>\n",
       "      <td>0.000000</td>\n",
       "      <td>0.000000</td>\n",
       "      <td>6.000000</td>\n",
       "      <td>0.000000</td>\n",
       "      <td>...</td>\n",
       "      <td>13.000000</td>\n",
       "      <td>5513.497338</td>\n",
       "      <td>5019.590000</td>\n",
       "      <td>4500.000000</td>\n",
       "      <td>643.990000</td>\n",
       "      <td>0.000000</td>\n",
       "      <td>0.000000</td>\n",
       "      <td>0.000000</td>\n",
       "      <td>217.420000</td>\n",
       "      <td>0.000000</td>\n",
       "    </tr>\n",
       "    <tr>\n",
       "      <th>50%</th>\n",
       "      <td>9600.000000</td>\n",
       "      <td>9550.000000</td>\n",
       "      <td>8733.440000</td>\n",
       "      <td>277.860000</td>\n",
       "      <td>5.886800e+04</td>\n",
       "      <td>13.370000</td>\n",
       "      <td>0.000000</td>\n",
       "      <td>1.000000</td>\n",
       "      <td>9.000000</td>\n",
       "      <td>0.000000</td>\n",
       "      <td>...</td>\n",
       "      <td>20.000000</td>\n",
       "      <td>9674.048405</td>\n",
       "      <td>9066.660000</td>\n",
       "      <td>8000.000000</td>\n",
       "      <td>1300.450000</td>\n",
       "      <td>0.000000</td>\n",
       "      <td>0.000000</td>\n",
       "      <td>0.000000</td>\n",
       "      <td>568.260000</td>\n",
       "      <td>0.000000</td>\n",
       "    </tr>\n",
       "    <tr>\n",
       "      <th>75%</th>\n",
       "      <td>15000.000000</td>\n",
       "      <td>15000.000000</td>\n",
       "      <td>14000.000000</td>\n",
       "      <td>425.550000</td>\n",
       "      <td>8.200000e+04</td>\n",
       "      <td>18.560000</td>\n",
       "      <td>0.000000</td>\n",
       "      <td>1.000000</td>\n",
       "      <td>12.000000</td>\n",
       "      <td>0.000000</td>\n",
       "      <td>...</td>\n",
       "      <td>29.000000</td>\n",
       "      <td>16136.952430</td>\n",
       "      <td>15329.780000</td>\n",
       "      <td>13175.000000</td>\n",
       "      <td>2671.980000</td>\n",
       "      <td>0.000000</td>\n",
       "      <td>0.000000</td>\n",
       "      <td>0.000000</td>\n",
       "      <td>3447.250000</td>\n",
       "      <td>0.000000</td>\n",
       "    </tr>\n",
       "    <tr>\n",
       "      <th>max</th>\n",
       "      <td>35000.000000</td>\n",
       "      <td>35000.000000</td>\n",
       "      <td>35000.000000</td>\n",
       "      <td>1305.190000</td>\n",
       "      <td>6.000000e+06</td>\n",
       "      <td>29.990000</td>\n",
       "      <td>11.000000</td>\n",
       "      <td>8.000000</td>\n",
       "      <td>44.000000</td>\n",
       "      <td>4.000000</td>\n",
       "      <td>...</td>\n",
       "      <td>90.000000</td>\n",
       "      <td>58563.679930</td>\n",
       "      <td>58563.680000</td>\n",
       "      <td>35000.020000</td>\n",
       "      <td>23563.680000</td>\n",
       "      <td>180.200000</td>\n",
       "      <td>29623.350000</td>\n",
       "      <td>7002.190000</td>\n",
       "      <td>36115.200000</td>\n",
       "      <td>2.000000</td>\n",
       "    </tr>\n",
       "  </tbody>\n",
       "</table>\n",
       "<p>8 rows × 21 columns</p>\n",
       "</div>"
      ],
      "text/plain": [
       "          loan_amnt   funded_amnt  funded_amnt_inv   installment  \\\n",
       "count  38577.000000  38577.000000     38577.000000  38577.000000   \n",
       "mean   11047.025430  10784.058506     10222.481123    322.466318   \n",
       "std     7348.441646   7090.306027      7022.720644    208.639215   \n",
       "min      500.000000    500.000000         0.000000     15.690000   \n",
       "25%     5300.000000   5200.000000      5000.000000    165.740000   \n",
       "50%     9600.000000   9550.000000      8733.440000    277.860000   \n",
       "75%    15000.000000  15000.000000     14000.000000    425.550000   \n",
       "max    35000.000000  35000.000000     35000.000000   1305.190000   \n",
       "\n",
       "         annual_inc           dti   delinq_2yrs  inq_last_6mths      open_acc  \\\n",
       "count  3.857700e+04  38577.000000  38577.000000    38577.000000  38577.000000   \n",
       "mean   6.877797e+04     13.272727      0.146668        0.871737      9.275423   \n",
       "std    6.421868e+04      6.673044      0.492271        1.071546      4.401588   \n",
       "min    4.000000e+03      0.000000      0.000000        0.000000      2.000000   \n",
       "25%    4.000000e+04      8.130000      0.000000        0.000000      6.000000   \n",
       "50%    5.886800e+04     13.370000      0.000000        1.000000      9.000000   \n",
       "75%    8.200000e+04     18.560000      0.000000        1.000000     12.000000   \n",
       "max    6.000000e+06     29.990000     11.000000        8.000000     44.000000   \n",
       "\n",
       "            pub_rec  ...     total_acc   total_pymnt  total_pymnt_inv  \\\n",
       "count  38577.000000  ...  38577.000000  38577.000000     38577.000000   \n",
       "mean       0.055422  ...     22.052648  11866.970365     11271.196153   \n",
       "std        0.237804  ...     11.425861   8809.856227      8700.845592   \n",
       "min        0.000000  ...      2.000000      0.000000         0.000000   \n",
       "25%        0.000000  ...     13.000000   5513.497338      5019.590000   \n",
       "50%        0.000000  ...     20.000000   9674.048405      9066.660000   \n",
       "75%        0.000000  ...     29.000000  16136.952430     15329.780000   \n",
       "max        4.000000  ...     90.000000  58563.679930     58563.680000   \n",
       "\n",
       "       total_rec_prncp  total_rec_int  total_rec_late_fee    recoveries  \\\n",
       "count     38577.000000   38577.000000        38577.000000  38577.000000   \n",
       "mean       9648.322898    2119.243370            1.368634     98.035545   \n",
       "std        7009.381200    2389.499511            7.315880    698.650182   \n",
       "min           0.000000       0.000000            0.000000      0.000000   \n",
       "25%        4500.000000     643.990000            0.000000      0.000000   \n",
       "50%        8000.000000    1300.450000            0.000000      0.000000   \n",
       "75%       13175.000000    2671.980000            0.000000      0.000000   \n",
       "max       35000.020000   23563.680000          180.200000  29623.350000   \n",
       "\n",
       "       collection_recovery_fee  last_pymnt_amnt  pub_rec_bankruptcies  \n",
       "count             38577.000000     38577.000000          37880.000000  \n",
       "mean                 12.772728      2746.243218              0.043479  \n",
       "std                 150.836853      4494.648131              0.204583  \n",
       "min                   0.000000         0.000000              0.000000  \n",
       "25%                   0.000000       217.420000              0.000000  \n",
       "50%                   0.000000       568.260000              0.000000  \n",
       "75%                   0.000000      3447.250000              0.000000  \n",
       "max                7002.190000     36115.200000              2.000000  \n",
       "\n",
       "[8 rows x 21 columns]"
      ]
     },
     "execution_count": 447,
     "metadata": {},
     "output_type": "execute_result"
    }
   ],
   "source": [
    "#Describe the dataset\n",
    "loan.describe()"
   ]
  },
  {
   "cell_type": "code",
   "execution_count": 448,
   "id": "95a5d431-a800-4f80-ba27-c240888f12c5",
   "metadata": {},
   "outputs": [],
   "source": [
    "#Format the interest rate column - Remove the percentage at the end and convert to numeric\n",
    "loan['int_rate'] = pd.to_numeric(loan['int_rate'].str.replace('%', ''))"
   ]
  },
  {
   "cell_type": "code",
   "execution_count": 449,
   "id": "64022eb5-b4d2-4b6b-9667-4addc351a071",
   "metadata": {},
   "outputs": [
    {
     "data": {
      "text/plain": [
       "count    38577.000000\n",
       "mean        11.932219\n",
       "std          3.691327\n",
       "min          5.420000\n",
       "25%          8.940000\n",
       "50%         11.710000\n",
       "75%         14.380000\n",
       "max         24.400000\n",
       "Name: int_rate, dtype: float64"
      ]
     },
     "execution_count": 449,
     "metadata": {},
     "output_type": "execute_result"
    }
   ],
   "source": [
    "#Describe the column after change\n",
    "loan['int_rate'].describe()"
   ]
  },
  {
   "cell_type": "code",
   "execution_count": 450,
   "id": "3fcc01c6-149b-43c8-94fd-18029df96be6",
   "metadata": {},
   "outputs": [
    {
     "data": {
      "text/plain": [
       "loan_amnt                    int64\n",
       "funded_amnt                  int64\n",
       "funded_amnt_inv            float64\n",
       "term                        object\n",
       "int_rate                   float64\n",
       "installment                float64\n",
       "grade                       object\n",
       "sub_grade                   object\n",
       "emp_length                  object\n",
       "home_ownership              object\n",
       "annual_inc                 float64\n",
       "verification_status         object\n",
       "issue_d                     object\n",
       "loan_status                 object\n",
       "purpose                     object\n",
       "zip_code                    object\n",
       "addr_state                  object\n",
       "dti                        float64\n",
       "delinq_2yrs                  int64\n",
       "earliest_cr_line            object\n",
       "inq_last_6mths               int64\n",
       "open_acc                     int64\n",
       "pub_rec                      int64\n",
       "revol_bal                    int64\n",
       "revol_util                  object\n",
       "total_acc                    int64\n",
       "total_pymnt                float64\n",
       "total_pymnt_inv            float64\n",
       "total_rec_prncp            float64\n",
       "total_rec_int              float64\n",
       "total_rec_late_fee         float64\n",
       "recoveries                 float64\n",
       "collection_recovery_fee    float64\n",
       "last_pymnt_d                object\n",
       "last_pymnt_amnt            float64\n",
       "last_credit_pull_d          object\n",
       "pub_rec_bankruptcies       float64\n",
       "dtype: object"
      ]
     },
     "execution_count": 450,
     "metadata": {},
     "output_type": "execute_result"
    }
   ],
   "source": [
    "#Check the datatypes of all columns\n",
    "loan.dtypes"
   ]
  },
  {
   "cell_type": "code",
   "execution_count": 451,
   "id": "b49a8338-f051-4f05-9f42-835c5b1491ef",
   "metadata": {},
   "outputs": [],
   "source": [
    "#Convert term to numeric and rename as term_in_months to be more readable\n",
    "loan['term_in_months'] = pd.to_numeric(loan['term'].str.replace(' months', ''))"
   ]
  },
  {
   "cell_type": "code",
   "execution_count": 452,
   "id": "8c06dbf5-7fbe-4c30-9eaa-92ebc90bd0e8",
   "metadata": {},
   "outputs": [
    {
     "data": {
      "text/plain": [
       "term_in_months\n",
       "36    29096\n",
       "60     9481\n",
       "Name: count, dtype: int64"
      ]
     },
     "execution_count": 452,
     "metadata": {},
     "output_type": "execute_result"
    }
   ],
   "source": [
    "loan['term_in_months'].value_counts()"
   ]
  },
  {
   "cell_type": "code",
   "execution_count": 453,
   "id": "10d236c7-8e36-458c-a58a-12be29ac2111",
   "metadata": {},
   "outputs": [],
   "source": [
    "loan.drop('term', axis=1, inplace=True)"
   ]
  },
  {
   "cell_type": "code",
   "execution_count": 454,
   "id": "bd320068-c93b-43a6-9659-5905314b460b",
   "metadata": {},
   "outputs": [
    {
     "data": {
      "text/plain": [
       "(38577, 37)"
      ]
     },
     "execution_count": 454,
     "metadata": {},
     "output_type": "execute_result"
    }
   ],
   "source": [
    "#check the shape of the dataset\n",
    "loan.shape"
   ]
  },
  {
   "cell_type": "code",
   "execution_count": 455,
   "id": "610aa59d-8c83-42a1-8133-0521d7abf1e5",
   "metadata": {},
   "outputs": [],
   "source": [
    "#Convert all amount columns to float\n",
    "loan[['loan_amnt', 'funded_amnt']] = loan[['loan_amnt', 'funded_amnt']].astype(float)"
   ]
  },
  {
   "cell_type": "code",
   "execution_count": 456,
   "id": "9d2484b6-6da4-4a21-9a0d-d29270cb4aec",
   "metadata": {},
   "outputs": [
    {
     "data": {
      "text/plain": [
       "loan_amnt      float64\n",
       "funded_amnt    float64\n",
       "dtype: object"
      ]
     },
     "execution_count": 456,
     "metadata": {},
     "output_type": "execute_result"
    }
   ],
   "source": [
    "loan[['loan_amnt', 'funded_amnt']].dtypes"
   ]
  },
  {
   "cell_type": "code",
   "execution_count": 457,
   "id": "420c9ebd-8c80-48ff-83ce-fc900e12c4e7",
   "metadata": {},
   "outputs": [
    {
     "data": {
      "text/html": [
       "<div>\n",
       "<style scoped>\n",
       "    .dataframe tbody tr th:only-of-type {\n",
       "        vertical-align: middle;\n",
       "    }\n",
       "\n",
       "    .dataframe tbody tr th {\n",
       "        vertical-align: top;\n",
       "    }\n",
       "\n",
       "    .dataframe thead th {\n",
       "        text-align: right;\n",
       "    }\n",
       "</style>\n",
       "<table border=\"1\" class=\"dataframe\">\n",
       "  <thead>\n",
       "    <tr style=\"text-align: right;\">\n",
       "      <th></th>\n",
       "      <th>loan_amnt</th>\n",
       "      <th>funded_amnt</th>\n",
       "      <th>funded_amnt_inv</th>\n",
       "      <th>int_rate</th>\n",
       "      <th>installment</th>\n",
       "      <th>grade</th>\n",
       "      <th>sub_grade</th>\n",
       "      <th>emp_length</th>\n",
       "      <th>home_ownership</th>\n",
       "      <th>annual_inc</th>\n",
       "      <th>...</th>\n",
       "      <th>total_rec_prncp</th>\n",
       "      <th>total_rec_int</th>\n",
       "      <th>total_rec_late_fee</th>\n",
       "      <th>recoveries</th>\n",
       "      <th>collection_recovery_fee</th>\n",
       "      <th>last_pymnt_d</th>\n",
       "      <th>last_pymnt_amnt</th>\n",
       "      <th>last_credit_pull_d</th>\n",
       "      <th>pub_rec_bankruptcies</th>\n",
       "      <th>term_in_months</th>\n",
       "    </tr>\n",
       "  </thead>\n",
       "  <tbody>\n",
       "    <tr>\n",
       "      <th>0</th>\n",
       "      <td>5000.0</td>\n",
       "      <td>5000.0</td>\n",
       "      <td>4975.0</td>\n",
       "      <td>10.65</td>\n",
       "      <td>162.87</td>\n",
       "      <td>B</td>\n",
       "      <td>B2</td>\n",
       "      <td>10+ years</td>\n",
       "      <td>RENT</td>\n",
       "      <td>24000.0</td>\n",
       "      <td>...</td>\n",
       "      <td>5000.00</td>\n",
       "      <td>863.16</td>\n",
       "      <td>0.00</td>\n",
       "      <td>0.00</td>\n",
       "      <td>0.00</td>\n",
       "      <td>Jan-15</td>\n",
       "      <td>171.62</td>\n",
       "      <td>May-16</td>\n",
       "      <td>0.0</td>\n",
       "      <td>36</td>\n",
       "    </tr>\n",
       "    <tr>\n",
       "      <th>1</th>\n",
       "      <td>2500.0</td>\n",
       "      <td>2500.0</td>\n",
       "      <td>2500.0</td>\n",
       "      <td>15.27</td>\n",
       "      <td>59.83</td>\n",
       "      <td>C</td>\n",
       "      <td>C4</td>\n",
       "      <td>&lt; 1 year</td>\n",
       "      <td>RENT</td>\n",
       "      <td>30000.0</td>\n",
       "      <td>...</td>\n",
       "      <td>456.46</td>\n",
       "      <td>435.17</td>\n",
       "      <td>0.00</td>\n",
       "      <td>117.08</td>\n",
       "      <td>1.11</td>\n",
       "      <td>Apr-13</td>\n",
       "      <td>119.66</td>\n",
       "      <td>Sep-13</td>\n",
       "      <td>0.0</td>\n",
       "      <td>60</td>\n",
       "    </tr>\n",
       "    <tr>\n",
       "      <th>2</th>\n",
       "      <td>2400.0</td>\n",
       "      <td>2400.0</td>\n",
       "      <td>2400.0</td>\n",
       "      <td>15.96</td>\n",
       "      <td>84.33</td>\n",
       "      <td>C</td>\n",
       "      <td>C5</td>\n",
       "      <td>10+ years</td>\n",
       "      <td>RENT</td>\n",
       "      <td>12252.0</td>\n",
       "      <td>...</td>\n",
       "      <td>2400.00</td>\n",
       "      <td>605.67</td>\n",
       "      <td>0.00</td>\n",
       "      <td>0.00</td>\n",
       "      <td>0.00</td>\n",
       "      <td>Jun-14</td>\n",
       "      <td>649.91</td>\n",
       "      <td>May-16</td>\n",
       "      <td>0.0</td>\n",
       "      <td>36</td>\n",
       "    </tr>\n",
       "    <tr>\n",
       "      <th>3</th>\n",
       "      <td>10000.0</td>\n",
       "      <td>10000.0</td>\n",
       "      <td>10000.0</td>\n",
       "      <td>13.49</td>\n",
       "      <td>339.31</td>\n",
       "      <td>C</td>\n",
       "      <td>C1</td>\n",
       "      <td>10+ years</td>\n",
       "      <td>RENT</td>\n",
       "      <td>49200.0</td>\n",
       "      <td>...</td>\n",
       "      <td>10000.00</td>\n",
       "      <td>2214.92</td>\n",
       "      <td>16.97</td>\n",
       "      <td>0.00</td>\n",
       "      <td>0.00</td>\n",
       "      <td>Jan-15</td>\n",
       "      <td>357.48</td>\n",
       "      <td>Apr-16</td>\n",
       "      <td>0.0</td>\n",
       "      <td>36</td>\n",
       "    </tr>\n",
       "    <tr>\n",
       "      <th>5</th>\n",
       "      <td>5000.0</td>\n",
       "      <td>5000.0</td>\n",
       "      <td>5000.0</td>\n",
       "      <td>7.90</td>\n",
       "      <td>156.46</td>\n",
       "      <td>A</td>\n",
       "      <td>A4</td>\n",
       "      <td>3 years</td>\n",
       "      <td>RENT</td>\n",
       "      <td>36000.0</td>\n",
       "      <td>...</td>\n",
       "      <td>5000.00</td>\n",
       "      <td>632.21</td>\n",
       "      <td>0.00</td>\n",
       "      <td>0.00</td>\n",
       "      <td>0.00</td>\n",
       "      <td>Jan-15</td>\n",
       "      <td>161.03</td>\n",
       "      <td>Jan-16</td>\n",
       "      <td>0.0</td>\n",
       "      <td>36</td>\n",
       "    </tr>\n",
       "  </tbody>\n",
       "</table>\n",
       "<p>5 rows × 37 columns</p>\n",
       "</div>"
      ],
      "text/plain": [
       "   loan_amnt  funded_amnt  funded_amnt_inv  int_rate  installment grade  \\\n",
       "0     5000.0       5000.0           4975.0     10.65       162.87     B   \n",
       "1     2500.0       2500.0           2500.0     15.27        59.83     C   \n",
       "2     2400.0       2400.0           2400.0     15.96        84.33     C   \n",
       "3    10000.0      10000.0          10000.0     13.49       339.31     C   \n",
       "5     5000.0       5000.0           5000.0      7.90       156.46     A   \n",
       "\n",
       "  sub_grade emp_length home_ownership  annual_inc  ... total_rec_prncp  \\\n",
       "0        B2  10+ years           RENT     24000.0  ...         5000.00   \n",
       "1        C4   < 1 year           RENT     30000.0  ...          456.46   \n",
       "2        C5  10+ years           RENT     12252.0  ...         2400.00   \n",
       "3        C1  10+ years           RENT     49200.0  ...        10000.00   \n",
       "5        A4    3 years           RENT     36000.0  ...         5000.00   \n",
       "\n",
       "  total_rec_int total_rec_late_fee recoveries collection_recovery_fee  \\\n",
       "0        863.16               0.00       0.00                    0.00   \n",
       "1        435.17               0.00     117.08                    1.11   \n",
       "2        605.67               0.00       0.00                    0.00   \n",
       "3       2214.92              16.97       0.00                    0.00   \n",
       "5        632.21               0.00       0.00                    0.00   \n",
       "\n",
       "  last_pymnt_d  last_pymnt_amnt  last_credit_pull_d pub_rec_bankruptcies  \\\n",
       "0       Jan-15           171.62              May-16                  0.0   \n",
       "1       Apr-13           119.66              Sep-13                  0.0   \n",
       "2       Jun-14           649.91              May-16                  0.0   \n",
       "3       Jan-15           357.48              Apr-16                  0.0   \n",
       "5       Jan-15           161.03              Jan-16                  0.0   \n",
       "\n",
       "   term_in_months  \n",
       "0              36  \n",
       "1              60  \n",
       "2              36  \n",
       "3              36  \n",
       "5              36  \n",
       "\n",
       "[5 rows x 37 columns]"
      ]
     },
     "execution_count": 457,
     "metadata": {},
     "output_type": "execute_result"
    }
   ],
   "source": [
    "#Check data\n",
    "loan.head()"
   ]
  },
  {
   "cell_type": "code",
   "execution_count": 458,
   "id": "627debbb-dd42-4b5f-9a02-9155b27d7486",
   "metadata": {},
   "outputs": [],
   "source": [
    "#Round all float columns to 2 decimal places\n",
    "loan = loan.round(2)"
   ]
  },
  {
   "cell_type": "code",
   "execution_count": 459,
   "id": "d1eca188-c46e-4061-bb31-320c434cb6e0",
   "metadata": {},
   "outputs": [
    {
     "data": {
      "text/html": [
       "<div>\n",
       "<style scoped>\n",
       "    .dataframe tbody tr th:only-of-type {\n",
       "        vertical-align: middle;\n",
       "    }\n",
       "\n",
       "    .dataframe tbody tr th {\n",
       "        vertical-align: top;\n",
       "    }\n",
       "\n",
       "    .dataframe thead th {\n",
       "        text-align: right;\n",
       "    }\n",
       "</style>\n",
       "<table border=\"1\" class=\"dataframe\">\n",
       "  <thead>\n",
       "    <tr style=\"text-align: right;\">\n",
       "      <th></th>\n",
       "      <th>loan_amnt</th>\n",
       "      <th>funded_amnt</th>\n",
       "      <th>funded_amnt_inv</th>\n",
       "      <th>int_rate</th>\n",
       "      <th>installment</th>\n",
       "      <th>grade</th>\n",
       "      <th>sub_grade</th>\n",
       "      <th>emp_length</th>\n",
       "      <th>home_ownership</th>\n",
       "      <th>annual_inc</th>\n",
       "      <th>...</th>\n",
       "      <th>total_rec_prncp</th>\n",
       "      <th>total_rec_int</th>\n",
       "      <th>total_rec_late_fee</th>\n",
       "      <th>recoveries</th>\n",
       "      <th>collection_recovery_fee</th>\n",
       "      <th>last_pymnt_d</th>\n",
       "      <th>last_pymnt_amnt</th>\n",
       "      <th>last_credit_pull_d</th>\n",
       "      <th>pub_rec_bankruptcies</th>\n",
       "      <th>term_in_months</th>\n",
       "    </tr>\n",
       "  </thead>\n",
       "  <tbody>\n",
       "    <tr>\n",
       "      <th>0</th>\n",
       "      <td>5000.0</td>\n",
       "      <td>5000.0</td>\n",
       "      <td>4975.0</td>\n",
       "      <td>10.65</td>\n",
       "      <td>162.87</td>\n",
       "      <td>B</td>\n",
       "      <td>B2</td>\n",
       "      <td>10+ years</td>\n",
       "      <td>RENT</td>\n",
       "      <td>24000.0</td>\n",
       "      <td>...</td>\n",
       "      <td>5000.00</td>\n",
       "      <td>863.16</td>\n",
       "      <td>0.00</td>\n",
       "      <td>0.00</td>\n",
       "      <td>0.00</td>\n",
       "      <td>Jan-15</td>\n",
       "      <td>171.62</td>\n",
       "      <td>May-16</td>\n",
       "      <td>0.0</td>\n",
       "      <td>36</td>\n",
       "    </tr>\n",
       "    <tr>\n",
       "      <th>1</th>\n",
       "      <td>2500.0</td>\n",
       "      <td>2500.0</td>\n",
       "      <td>2500.0</td>\n",
       "      <td>15.27</td>\n",
       "      <td>59.83</td>\n",
       "      <td>C</td>\n",
       "      <td>C4</td>\n",
       "      <td>&lt; 1 year</td>\n",
       "      <td>RENT</td>\n",
       "      <td>30000.0</td>\n",
       "      <td>...</td>\n",
       "      <td>456.46</td>\n",
       "      <td>435.17</td>\n",
       "      <td>0.00</td>\n",
       "      <td>117.08</td>\n",
       "      <td>1.11</td>\n",
       "      <td>Apr-13</td>\n",
       "      <td>119.66</td>\n",
       "      <td>Sep-13</td>\n",
       "      <td>0.0</td>\n",
       "      <td>60</td>\n",
       "    </tr>\n",
       "    <tr>\n",
       "      <th>2</th>\n",
       "      <td>2400.0</td>\n",
       "      <td>2400.0</td>\n",
       "      <td>2400.0</td>\n",
       "      <td>15.96</td>\n",
       "      <td>84.33</td>\n",
       "      <td>C</td>\n",
       "      <td>C5</td>\n",
       "      <td>10+ years</td>\n",
       "      <td>RENT</td>\n",
       "      <td>12252.0</td>\n",
       "      <td>...</td>\n",
       "      <td>2400.00</td>\n",
       "      <td>605.67</td>\n",
       "      <td>0.00</td>\n",
       "      <td>0.00</td>\n",
       "      <td>0.00</td>\n",
       "      <td>Jun-14</td>\n",
       "      <td>649.91</td>\n",
       "      <td>May-16</td>\n",
       "      <td>0.0</td>\n",
       "      <td>36</td>\n",
       "    </tr>\n",
       "    <tr>\n",
       "      <th>3</th>\n",
       "      <td>10000.0</td>\n",
       "      <td>10000.0</td>\n",
       "      <td>10000.0</td>\n",
       "      <td>13.49</td>\n",
       "      <td>339.31</td>\n",
       "      <td>C</td>\n",
       "      <td>C1</td>\n",
       "      <td>10+ years</td>\n",
       "      <td>RENT</td>\n",
       "      <td>49200.0</td>\n",
       "      <td>...</td>\n",
       "      <td>10000.00</td>\n",
       "      <td>2214.92</td>\n",
       "      <td>16.97</td>\n",
       "      <td>0.00</td>\n",
       "      <td>0.00</td>\n",
       "      <td>Jan-15</td>\n",
       "      <td>357.48</td>\n",
       "      <td>Apr-16</td>\n",
       "      <td>0.0</td>\n",
       "      <td>36</td>\n",
       "    </tr>\n",
       "    <tr>\n",
       "      <th>5</th>\n",
       "      <td>5000.0</td>\n",
       "      <td>5000.0</td>\n",
       "      <td>5000.0</td>\n",
       "      <td>7.90</td>\n",
       "      <td>156.46</td>\n",
       "      <td>A</td>\n",
       "      <td>A4</td>\n",
       "      <td>3 years</td>\n",
       "      <td>RENT</td>\n",
       "      <td>36000.0</td>\n",
       "      <td>...</td>\n",
       "      <td>5000.00</td>\n",
       "      <td>632.21</td>\n",
       "      <td>0.00</td>\n",
       "      <td>0.00</td>\n",
       "      <td>0.00</td>\n",
       "      <td>Jan-15</td>\n",
       "      <td>161.03</td>\n",
       "      <td>Jan-16</td>\n",
       "      <td>0.0</td>\n",
       "      <td>36</td>\n",
       "    </tr>\n",
       "  </tbody>\n",
       "</table>\n",
       "<p>5 rows × 37 columns</p>\n",
       "</div>"
      ],
      "text/plain": [
       "   loan_amnt  funded_amnt  funded_amnt_inv  int_rate  installment grade  \\\n",
       "0     5000.0       5000.0           4975.0     10.65       162.87     B   \n",
       "1     2500.0       2500.0           2500.0     15.27        59.83     C   \n",
       "2     2400.0       2400.0           2400.0     15.96        84.33     C   \n",
       "3    10000.0      10000.0          10000.0     13.49       339.31     C   \n",
       "5     5000.0       5000.0           5000.0      7.90       156.46     A   \n",
       "\n",
       "  sub_grade emp_length home_ownership  annual_inc  ... total_rec_prncp  \\\n",
       "0        B2  10+ years           RENT     24000.0  ...         5000.00   \n",
       "1        C4   < 1 year           RENT     30000.0  ...          456.46   \n",
       "2        C5  10+ years           RENT     12252.0  ...         2400.00   \n",
       "3        C1  10+ years           RENT     49200.0  ...        10000.00   \n",
       "5        A4    3 years           RENT     36000.0  ...         5000.00   \n",
       "\n",
       "  total_rec_int total_rec_late_fee recoveries collection_recovery_fee  \\\n",
       "0        863.16               0.00       0.00                    0.00   \n",
       "1        435.17               0.00     117.08                    1.11   \n",
       "2        605.67               0.00       0.00                    0.00   \n",
       "3       2214.92              16.97       0.00                    0.00   \n",
       "5        632.21               0.00       0.00                    0.00   \n",
       "\n",
       "  last_pymnt_d  last_pymnt_amnt  last_credit_pull_d pub_rec_bankruptcies  \\\n",
       "0       Jan-15           171.62              May-16                  0.0   \n",
       "1       Apr-13           119.66              Sep-13                  0.0   \n",
       "2       Jun-14           649.91              May-16                  0.0   \n",
       "3       Jan-15           357.48              Apr-16                  0.0   \n",
       "5       Jan-15           161.03              Jan-16                  0.0   \n",
       "\n",
       "   term_in_months  \n",
       "0              36  \n",
       "1              60  \n",
       "2              36  \n",
       "3              36  \n",
       "5              36  \n",
       "\n",
       "[5 rows x 37 columns]"
      ]
     },
     "execution_count": 459,
     "metadata": {},
     "output_type": "execute_result"
    }
   ],
   "source": [
    "#Check data\n",
    "loan.head()"
   ]
  },
  {
   "cell_type": "code",
   "execution_count": 460,
   "id": "18f6265c-73ec-48f1-95dd-2b0e1e8231f2",
   "metadata": {},
   "outputs": [],
   "source": [
    "#Format issue_d column, split into month and year\n",
    "loan[['month_issued', 'year_issued']] = loan['issue_d'].str.split('-', expand=True)\n",
    "#Format the year to hold 2011, 2010 etc\n",
    "loan['year_issued'] = '20' + loan['year_issued']"
   ]
  },
  {
   "cell_type": "code",
   "execution_count": 461,
   "id": "f2cc7137-482b-4d1f-9e93-38ad2aaedbf3",
   "metadata": {},
   "outputs": [
    {
     "data": {
      "text/html": [
       "<div>\n",
       "<style scoped>\n",
       "    .dataframe tbody tr th:only-of-type {\n",
       "        vertical-align: middle;\n",
       "    }\n",
       "\n",
       "    .dataframe tbody tr th {\n",
       "        vertical-align: top;\n",
       "    }\n",
       "\n",
       "    .dataframe thead th {\n",
       "        text-align: right;\n",
       "    }\n",
       "</style>\n",
       "<table border=\"1\" class=\"dataframe\">\n",
       "  <thead>\n",
       "    <tr style=\"text-align: right;\">\n",
       "      <th></th>\n",
       "      <th>issue_d</th>\n",
       "      <th>year_issued</th>\n",
       "      <th>month_issued</th>\n",
       "    </tr>\n",
       "  </thead>\n",
       "  <tbody>\n",
       "    <tr>\n",
       "      <th>0</th>\n",
       "      <td>Dec-11</td>\n",
       "      <td>2011</td>\n",
       "      <td>Dec</td>\n",
       "    </tr>\n",
       "    <tr>\n",
       "      <th>1</th>\n",
       "      <td>Dec-11</td>\n",
       "      <td>2011</td>\n",
       "      <td>Dec</td>\n",
       "    </tr>\n",
       "    <tr>\n",
       "      <th>2</th>\n",
       "      <td>Dec-11</td>\n",
       "      <td>2011</td>\n",
       "      <td>Dec</td>\n",
       "    </tr>\n",
       "    <tr>\n",
       "      <th>3</th>\n",
       "      <td>Dec-11</td>\n",
       "      <td>2011</td>\n",
       "      <td>Dec</td>\n",
       "    </tr>\n",
       "    <tr>\n",
       "      <th>5</th>\n",
       "      <td>Dec-11</td>\n",
       "      <td>2011</td>\n",
       "      <td>Dec</td>\n",
       "    </tr>\n",
       "  </tbody>\n",
       "</table>\n",
       "</div>"
      ],
      "text/plain": [
       "  issue_d year_issued month_issued\n",
       "0  Dec-11        2011          Dec\n",
       "1  Dec-11        2011          Dec\n",
       "2  Dec-11        2011          Dec\n",
       "3  Dec-11        2011          Dec\n",
       "5  Dec-11        2011          Dec"
      ]
     },
     "execution_count": 461,
     "metadata": {},
     "output_type": "execute_result"
    }
   ],
   "source": [
    "#Check data\n",
    "loan[['issue_d','year_issued','month_issued']].head()"
   ]
  },
  {
   "cell_type": "code",
   "execution_count": 462,
   "id": "4091598c-33db-4305-a8d1-87859186bdfb",
   "metadata": {},
   "outputs": [
    {
     "data": {
      "text/plain": [
       "(38577, 39)"
      ]
     },
     "execution_count": 462,
     "metadata": {},
     "output_type": "execute_result"
    }
   ],
   "source": [
    "#check the shape of the dataset\n",
    "loan.shape"
   ]
  },
  {
   "cell_type": "code",
   "execution_count": 463,
   "id": "e39eb5e3-43f4-40e0-8451-196b845136c8",
   "metadata": {},
   "outputs": [],
   "source": [
    "#Drop issue_d\n",
    "loan =loan.drop(columns=['issue_d'])"
   ]
  },
  {
   "cell_type": "code",
   "execution_count": 464,
   "id": "1777dbf1-60a2-4fca-8e98-1d3ba7367288",
   "metadata": {},
   "outputs": [
    {
     "data": {
      "text/plain": [
       "(38577, 38)"
      ]
     },
     "execution_count": 464,
     "metadata": {},
     "output_type": "execute_result"
    }
   ],
   "source": [
    "#check the shape of the dataset\n",
    "loan.shape"
   ]
  },
  {
   "cell_type": "code",
   "execution_count": 465,
   "id": "abec6ffa-541d-470b-9f98-800f4def8462",
   "metadata": {},
   "outputs": [],
   "source": [
    "#remove columns that belongs to repayemnt of the loan or after loan was disbursed\n",
    "loan =loan.drop(columns=['total_pymnt','total_pymnt_inv','total_rec_int','total_rec_late_fee','total_rec_prncp','recoveries','collection_recovery_fee','last_pymnt_amnt','last_pymnt_d','last_credit_pull_d'])"
   ]
  },
  {
   "cell_type": "code",
   "execution_count": 466,
   "id": "c1b17e24-356a-463e-b2a3-6c329ceaec6e",
   "metadata": {},
   "outputs": [
    {
     "data": {
      "text/plain": [
       "(38577, 28)"
      ]
     },
     "execution_count": 466,
     "metadata": {},
     "output_type": "execute_result"
    }
   ],
   "source": [
    "#check the shape of the dataset\n",
    "loan.shape"
   ]
  },
  {
   "cell_type": "code",
   "execution_count": 467,
   "id": "a15568d2-54eb-444d-85a5-b675fe748b42",
   "metadata": {},
   "outputs": [],
   "source": [
    "#drop column zip_code as it does not have correct value \n",
    "loan =loan.drop(columns=['zip_code'])"
   ]
  },
  {
   "cell_type": "code",
   "execution_count": 468,
   "id": "dfe50cf1-3d67-4f9f-b237-54b940a74449",
   "metadata": {},
   "outputs": [
    {
     "data": {
      "text/plain": [
       "(38577, 27)"
      ]
     },
     "execution_count": 468,
     "metadata": {},
     "output_type": "execute_result"
    }
   ],
   "source": [
    "#check the shape of the dataset\n",
    "loan.shape"
   ]
  },
  {
   "cell_type": "code",
   "execution_count": 469,
   "id": "8a6a81e3-2a2e-4d30-a675-3e8f36b5bad2",
   "metadata": {},
   "outputs": [
    {
     "data": {
      "text/plain": [
       "count    38577.000000\n",
       "mean        11.932219\n",
       "std          3.691327\n",
       "min          5.420000\n",
       "25%          8.940000\n",
       "50%         11.710000\n",
       "75%         14.380000\n",
       "max         24.400000\n",
       "Name: int_rate, dtype: float64"
      ]
     },
     "execution_count": 469,
     "metadata": {},
     "output_type": "execute_result"
    }
   ],
   "source": [
    "loan['int_rate'].describe()"
   ]
  },
  {
   "cell_type": "code",
   "execution_count": 470,
   "id": "e42e51ad-56e3-467d-940c-dfd75dbcb922",
   "metadata": {},
   "outputs": [
    {
     "data": {
      "image/png": "[encoded data removed]",
      "text/plain": [
       "<Figure size 640x480 with 1 Axes>"
      ]
     },
     "metadata": {},
     "output_type": "display_data"
    }
   ],
   "source": [
    "#Make a histogram to understand the distribution\n",
    "plt.hist(loan['int_rate'], bins=20)\n",
    "plt.xticks(range(0, 25, 2))\n",
    "plt.show()"
   ]
  },
  {
   "cell_type": "code",
   "execution_count": 471,
   "id": "ad96aa4f-7d3d-4959-adc7-572eed9e9f48",
   "metadata": {},
   "outputs": [
    {
     "data": {
      "image/png": "[encoded data removed]",
      "text/plain": [
       "<Figure size 640x480 with 1 Axes>"
      ]
     },
     "metadata": {},
     "output_type": "display_data"
    }
   ],
   "source": [
    "#Make a box plot to understand \n",
    "plt.boxplot(loan['int_rate'])\n",
    "plt.show()"
   ]
  },
  {
   "cell_type": "code",
   "execution_count": 472,
   "id": "bb86bdae-59df-4087-9aa6-a474ec3fd9b2",
   "metadata": {},
   "outputs": [
    {
     "data": {
      "text/plain": [
       "loan_amnt                  0\n",
       "term_in_months             0\n",
       "total_acc                  0\n",
       "revol_bal                  0\n",
       "pub_rec                    0\n",
       "open_acc                   0\n",
       "inq_last_6mths             0\n",
       "earliest_cr_line           0\n",
       "delinq_2yrs                0\n",
       "dti                        0\n",
       "month_issued               0\n",
       "purpose                    0\n",
       "addr_state                 0\n",
       "verification_status        0\n",
       "annual_inc                 0\n",
       "home_ownership             0\n",
       "sub_grade                  0\n",
       "grade                      0\n",
       "installment                0\n",
       "int_rate                   0\n",
       "funded_amnt_inv            0\n",
       "funded_amnt                0\n",
       "loan_status                0\n",
       "year_issued                0\n",
       "revol_util                50\n",
       "pub_rec_bankruptcies     697\n",
       "emp_length              1033\n",
       "dtype: int64"
      ]
     },
     "execution_count": 472,
     "metadata": {},
     "output_type": "execute_result"
    }
   ],
   "source": [
    "#Check count of values in each columns\n",
    "loan.isnull().sum().sort_values()"
   ]
  },
  {
   "cell_type": "code",
   "execution_count": 473,
   "id": "b0e05d60-00a1-43ab-a7d2-782ee8de8564",
   "metadata": {},
   "outputs": [
    {
     "data": {
      "text/plain": [
       "loan_amnt               0.000000\n",
       "funded_amnt             0.000000\n",
       "funded_amnt_inv         0.000000\n",
       "int_rate                0.000000\n",
       "installment             0.000000\n",
       "grade                   0.000000\n",
       "sub_grade               0.000000\n",
       "emp_length              2.677761\n",
       "home_ownership          0.000000\n",
       "annual_inc              0.000000\n",
       "verification_status     0.000000\n",
       "loan_status             0.000000\n",
       "purpose                 0.000000\n",
       "addr_state              0.000000\n",
       "dti                     0.000000\n",
       "delinq_2yrs             0.000000\n",
       "earliest_cr_line        0.000000\n",
       "inq_last_6mths          0.000000\n",
       "open_acc                0.000000\n",
       "pub_rec                 0.000000\n",
       "revol_bal               0.000000\n",
       "revol_util              0.129611\n",
       "total_acc               0.000000\n",
       "pub_rec_bankruptcies    1.806776\n",
       "term_in_months          0.000000\n",
       "month_issued            0.000000\n",
       "year_issued             0.000000\n",
       "dtype: float64"
      ]
     },
     "execution_count": 473,
     "metadata": {},
     "output_type": "execute_result"
    }
   ],
   "source": [
    "# Percentage of null values in each columns\n",
    "(loan.isnull().sum()*100)/len(loan)"
   ]
  },
  {
   "cell_type": "code",
   "execution_count": 474,
   "id": "bfbfefa5-95de-4d44-a8f7-fac35a66894e",
   "metadata": {},
   "outputs": [],
   "source": [
    "loan = loan[loan['emp_length'].notna()]\n",
    "loan = loan[loan['pub_rec_bankruptcies'].notna()]"
   ]
  },
  {
   "cell_type": "code",
   "execution_count": 475,
   "id": "4e9e39a3-7887-43ea-9688-77f379a7db04",
   "metadata": {},
   "outputs": [
    {
     "data": {
      "text/plain": [
       "(36847, 27)"
      ]
     },
     "execution_count": 475,
     "metadata": {},
     "output_type": "execute_result"
    }
   ],
   "source": [
    "#check the shape of the dataset\n",
    "loan.shape"
   ]
  },
  {
   "cell_type": "code",
   "execution_count": 476,
   "id": "f46d3949-4b72-422f-bdc3-de6670fdc99a",
   "metadata": {},
   "outputs": [
    {
     "data": {
      "text/plain": [
       "loan_amnt               0.000000\n",
       "funded_amnt             0.000000\n",
       "funded_amnt_inv         0.000000\n",
       "int_rate                0.000000\n",
       "installment             0.000000\n",
       "grade                   0.000000\n",
       "sub_grade               0.000000\n",
       "emp_length              0.000000\n",
       "home_ownership          0.000000\n",
       "annual_inc              0.000000\n",
       "verification_status     0.000000\n",
       "loan_status             0.000000\n",
       "purpose                 0.000000\n",
       "addr_state              0.000000\n",
       "dti                     0.000000\n",
       "delinq_2yrs             0.000000\n",
       "earliest_cr_line        0.000000\n",
       "inq_last_6mths          0.000000\n",
       "open_acc                0.000000\n",
       "pub_rec                 0.000000\n",
       "revol_bal               0.000000\n",
       "revol_util              0.127554\n",
       "total_acc               0.000000\n",
       "pub_rec_bankruptcies    0.000000\n",
       "term_in_months          0.000000\n",
       "month_issued            0.000000\n",
       "year_issued             0.000000\n",
       "dtype: float64"
      ]
     },
     "execution_count": 476,
     "metadata": {},
     "output_type": "execute_result"
    }
   ],
   "source": [
    "# Percentage of null values in each columns\n",
    "(loan.isnull().sum()*100)/len(loan)"
   ]
  },
  {
   "cell_type": "code",
   "execution_count": 477,
   "id": "8a49df77-0aaf-41d8-abdd-b7083a87827f",
   "metadata": {},
   "outputs": [],
   "source": [
    "#As revolv_util will have impact on lending decisions let us impute the null values with 0\n",
    "loan['revol_util'] = loan['revol_util'].fillna(0)"
   ]
  },
  {
   "cell_type": "code",
   "execution_count": 478,
   "id": "9f4fed62-ef39-44f8-be07-16b4e492c706",
   "metadata": {},
   "outputs": [
    {
     "data": {
      "text/plain": [
       "count     36847\n",
       "unique     1087\n",
       "top          0%\n",
       "freq        883\n",
       "Name: revol_util, dtype: object"
      ]
     },
     "execution_count": 478,
     "metadata": {},
     "output_type": "execute_result"
    }
   ],
   "source": [
    "#Describe revol_util\n",
    "loan['revol_util'].describe()"
   ]
  },
  {
   "cell_type": "code",
   "execution_count": 479,
   "id": "66419252-fe9d-4ad8-bcbb-e5e0b4110d66",
   "metadata": {},
   "outputs": [
    {
     "data": {
      "text/plain": [
       "loan_amnt               0.0\n",
       "funded_amnt             0.0\n",
       "funded_amnt_inv         0.0\n",
       "int_rate                0.0\n",
       "installment             0.0\n",
       "grade                   0.0\n",
       "sub_grade               0.0\n",
       "emp_length              0.0\n",
       "home_ownership          0.0\n",
       "annual_inc              0.0\n",
       "verification_status     0.0\n",
       "loan_status             0.0\n",
       "purpose                 0.0\n",
       "addr_state              0.0\n",
       "dti                     0.0\n",
       "delinq_2yrs             0.0\n",
       "earliest_cr_line        0.0\n",
       "inq_last_6mths          0.0\n",
       "open_acc                0.0\n",
       "pub_rec                 0.0\n",
       "revol_bal               0.0\n",
       "revol_util              0.0\n",
       "total_acc               0.0\n",
       "pub_rec_bankruptcies    0.0\n",
       "term_in_months          0.0\n",
       "month_issued            0.0\n",
       "year_issued             0.0\n",
       "dtype: float64"
      ]
     },
     "execution_count": 479,
     "metadata": {},
     "output_type": "execute_result"
    }
   ],
   "source": [
    "# Percentage of null values in each columns\n",
    "(loan.isnull().sum()*100)/len(loan)"
   ]
  },
  {
   "cell_type": "code",
   "execution_count": 480,
   "id": "16d74880-321c-41a5-8b72-76d982c28cd9",
   "metadata": {},
   "outputs": [
    {
     "data": {
      "text/plain": [
       "(36847, 27)"
      ]
     },
     "execution_count": 480,
     "metadata": {},
     "output_type": "execute_result"
    }
   ],
   "source": [
    "#check the shape of the dataset\n",
    "loan.shape"
   ]
  },
  {
   "cell_type": "code",
   "execution_count": 481,
   "id": "08532ae2-7a00-44ec-bb80-dda4e70895b6",
   "metadata": {},
   "outputs": [],
   "source": [
    "#Let's split dataframe into 2 - Charged off and Fully Paid\n",
    "loan_charged_off = loan[loan['loan_status'] == 'Charged Off']\n",
    "loan_fully_paid = loan[loan['loan_status'] == 'Fully Paid']"
   ]
  },
  {
   "cell_type": "code",
   "execution_count": 482,
   "id": "625c91e0-c74a-4b98-b2d0-5362eff6bafb",
   "metadata": {},
   "outputs": [
    {
     "data": {
      "text/plain": [
       "(5281, 27)"
      ]
     },
     "execution_count": 482,
     "metadata": {},
     "output_type": "execute_result"
    }
   ],
   "source": [
    "#check the shape of the datasets\n",
    "loan_charged_off.shape"
   ]
  },
  {
   "cell_type": "code",
   "execution_count": 483,
   "id": "1c23f287-f908-4794-874d-532c64526545",
   "metadata": {},
   "outputs": [
    {
     "data": {
      "text/plain": [
       "(31566, 27)"
      ]
     },
     "execution_count": 483,
     "metadata": {},
     "output_type": "execute_result"
    }
   ],
   "source": [
    "#check the shape of the datasets\n",
    "loan_fully_paid.shape"
   ]
  },
  {
   "cell_type": "code",
   "execution_count": 484,
   "id": "f623e782-9306-423a-b9e9-f01837d6a116",
   "metadata": {},
   "outputs": [
    {
     "data": {
      "text/plain": [
       "<Axes: xlabel='loan_status', ylabel='count'>"
      ]
     },
     "execution_count": 484,
     "metadata": {},
     "output_type": "execute_result"
    },
    {
     "data": {
      "image/png": "[encoded data removed]",
      "text/plain": [
       "<Figure size 640x480 with 1 Axes>"
      ]
     },
     "metadata": {},
     "output_type": "display_data"
    }
   ],
   "source": [
    "#Visualizing Categorical Data\n",
    "sns.countplot(x = 'loan_status', data = loan)"
   ]
  },
  {
   "cell_type": "code",
   "execution_count": 485,
   "id": "c08cbe60-9d5e-4e4c-b553-f9d855fc055f",
   "metadata": {},
   "outputs": [
    {
     "data": {
      "text/plain": [
       "<Axes: xlabel='grade', ylabel='count'>"
      ]
     },
     "execution_count": 485,
     "metadata": {},
     "output_type": "execute_result"
    },
    {
     "data": {
      "image/png": "[encoded data removed]",
      "text/plain": [
       "<Figure size 640x480 with 1 Axes>"
      ]
     },
     "metadata": {},
     "output_type": "display_data"
    }
   ],
   "source": [
    "#Default Loans vs Grade\n",
    "sns.countplot(x = 'grade', data = loan_charged_off)"
   ]
  },
  {
   "cell_type": "code",
   "execution_count": 486,
   "id": "d1121317-0e90-4777-bcbf-3faffea7e802",
   "metadata": {},
   "outputs": [
    {
     "data": {
      "text/plain": [
       "<Axes: xlabel='home_ownership', ylabel='count'>"
      ]
     },
     "execution_count": 486,
     "metadata": {},
     "output_type": "execute_result"
    },
    {
     "data": {
      "image/png": "[encoded data removed]",
      "text/plain": [
       "<Figure size 640x480 with 1 Axes>"
      ]
     },
     "metadata": {},
     "output_type": "display_data"
    }
   ],
   "source": [
    "#Default Loans vs Home Ownership\n",
    "sns.countplot(x='home_ownership', data = loan_charged_off)"
   ]
  },
  {
   "cell_type": "code",
   "execution_count": 487,
   "id": "f4246983-eb99-45bf-89a2-62b928a340e9",
   "metadata": {},
   "outputs": [
    {
     "data": {
      "text/plain": [
       "<Axes: xlabel='purpose', ylabel='count'>"
      ]
     },
     "execution_count": 487,
     "metadata": {},
     "output_type": "execute_result"
    },
    {
     "data": {
      "image/png": "[encoded data removed]",
      "text/plain": [
       "<Figure size 2000x1600 with 1 Axes>"
      ]
     },
     "metadata": {},
     "output_type": "display_data"
    }
   ],
   "source": [
    "#Default loan vs Purpose of the loan\n",
    "fig, ax = plt.subplots(figsize = (20,16))\n",
    "sns.countplot(x ='purpose', data = loan_charged_off)"
   ]
  },
  {
   "cell_type": "code",
   "execution_count": 488,
   "id": "21bad143-c5a6-4daa-8cac-3f9fd41c457c",
   "metadata": {},
   "outputs": [
    {
     "data": {
      "text/plain": [
       "array(['10+ years', '< 1 year', '3 years', '8 years', '9 years',\n",
       "       '4 years', '5 years', '1 year', '6 years', '2 years', '7 years'],\n",
       "      dtype=object)"
      ]
     },
     "execution_count": 488,
     "metadata": {},
     "output_type": "execute_result"
    }
   ],
   "source": [
    "#Convert emp_length to numeric\n",
    "loan['emp_length'].unique()"
   ]
  },
  {
   "cell_type": "code",
   "execution_count": 555,
   "id": "9749f835-0280-4e63-afd1-78b20c0a3fd9",
   "metadata": {},
   "outputs": [],
   "source": [
    "loan['emp_length'] = loan['emp_length'].replace('< 1 year', '0 year')"
   ]
  },
  {
   "cell_type": "code",
   "execution_count": 557,
   "id": "f420aa92-58cb-4f90-8cb8-a514c66cebbf",
   "metadata": {},
   "outputs": [
    {
     "data": {
      "text/plain": [
       "array(['10+ years', '0 year', '3 years', '8 years', '9 years', '4 years',\n",
       "       '5 years', '1 year', '6 years', '2 years', '7 years'], dtype=object)"
      ]
     },
     "execution_count": 557,
     "metadata": {},
     "output_type": "execute_result"
    }
   ],
   "source": [
    "loan['emp_length'].unique()"
   ]
  },
  {
   "cell_type": "code",
   "execution_count": 559,
   "id": "0eb57d10-3c7b-4333-bd87-38d037e0a007",
   "metadata": {},
   "outputs": [],
   "source": [
    "loan['emp_length'] = pd.to_numeric(loan['emp_length'].str.extract(r'(\\d+)')[0])"
   ]
  },
  {
   "cell_type": "code",
   "execution_count": 561,
   "id": "e15a109e-9b65-45a0-a465-c862fb8079b0",
   "metadata": {},
   "outputs": [
    {
     "data": {
      "text/plain": [
       "array([10,  0,  3,  8,  9,  4,  5,  1,  6,  2,  7], dtype=int64)"
      ]
     },
     "execution_count": 561,
     "metadata": {},
     "output_type": "execute_result"
    }
   ],
   "source": [
    "loan['emp_length'].unique()"
   ]
  },
  {
   "cell_type": "code",
   "execution_count": 565,
   "id": "8ee94a75-07eb-4428-83ab-9f729752dcbc",
   "metadata": {},
   "outputs": [
    {
     "data": {
      "text/plain": [
       "count    36847.000000\n",
       "mean        11.988346\n",
       "std          3.702091\n",
       "min          5.420000\n",
       "25%          8.940000\n",
       "50%         11.860000\n",
       "75%         14.520000\n",
       "max         24.400000\n",
       "Name: int_rate, dtype: float64"
      ]
     },
     "execution_count": 565,
     "metadata": {},
     "output_type": "execute_result"
    }
   ],
   "source": [
    "#Create segments of columns annual_inc, int_rate, emp_length\n",
    "loan.int_rate.describe()"
   ]
  },
  {
   "cell_type": "code",
   "execution_count": 567,
   "id": "a2aba784-70cc-43c2-9ecd-9c109f5a17c9",
   "metadata": {},
   "outputs": [],
   "source": [
    "# Define bins and labels\n",
    "bins = [5, 10, 15, 25]\n",
    "labels = ['Low', 'Medium', 'High']\n",
    "\n",
    "# Create a new column with segments\n",
    "loan['rate_segment'] = pd.cut(loan['int_rate'], bins=bins, labels=labels, include_lowest=True)"
   ]
  },
  {
   "cell_type": "code",
   "execution_count": 569,
   "id": "463f5c9f-50b4-4c41-be4b-ea643123c1d3",
   "metadata": {},
   "outputs": [
    {
     "data": {
      "text/html": [
       "<div>\n",
       "<style scoped>\n",
       "    .dataframe tbody tr th:only-of-type {\n",
       "        vertical-align: middle;\n",
       "    }\n",
       "\n",
       "    .dataframe tbody tr th {\n",
       "        vertical-align: top;\n",
       "    }\n",
       "\n",
       "    .dataframe thead th {\n",
       "        text-align: right;\n",
       "    }\n",
       "</style>\n",
       "<table border=\"1\" class=\"dataframe\">\n",
       "  <thead>\n",
       "    <tr style=\"text-align: right;\">\n",
       "      <th></th>\n",
       "      <th>loan_amnt</th>\n",
       "      <th>funded_amnt</th>\n",
       "      <th>funded_amnt_inv</th>\n",
       "      <th>int_rate</th>\n",
       "      <th>installment</th>\n",
       "      <th>grade</th>\n",
       "      <th>sub_grade</th>\n",
       "      <th>emp_length</th>\n",
       "      <th>home_ownership</th>\n",
       "      <th>annual_inc</th>\n",
       "      <th>...</th>\n",
       "      <th>open_acc</th>\n",
       "      <th>pub_rec</th>\n",
       "      <th>revol_bal</th>\n",
       "      <th>revol_util</th>\n",
       "      <th>total_acc</th>\n",
       "      <th>pub_rec_bankruptcies</th>\n",
       "      <th>term_in_months</th>\n",
       "      <th>month_issued</th>\n",
       "      <th>year_issued</th>\n",
       "      <th>rate_segment</th>\n",
       "    </tr>\n",
       "  </thead>\n",
       "  <tbody>\n",
       "    <tr>\n",
       "      <th>0</th>\n",
       "      <td>5000.0</td>\n",
       "      <td>5000.0</td>\n",
       "      <td>4975.0</td>\n",
       "      <td>10.65</td>\n",
       "      <td>162.87</td>\n",
       "      <td>B</td>\n",
       "      <td>B2</td>\n",
       "      <td>10</td>\n",
       "      <td>RENT</td>\n",
       "      <td>24000.0</td>\n",
       "      <td>...</td>\n",
       "      <td>3</td>\n",
       "      <td>0</td>\n",
       "      <td>13648</td>\n",
       "      <td>83.70%</td>\n",
       "      <td>9</td>\n",
       "      <td>0.0</td>\n",
       "      <td>36</td>\n",
       "      <td>Dec</td>\n",
       "      <td>2011</td>\n",
       "      <td>Medium</td>\n",
       "    </tr>\n",
       "    <tr>\n",
       "      <th>1</th>\n",
       "      <td>2500.0</td>\n",
       "      <td>2500.0</td>\n",
       "      <td>2500.0</td>\n",
       "      <td>15.27</td>\n",
       "      <td>59.83</td>\n",
       "      <td>C</td>\n",
       "      <td>C4</td>\n",
       "      <td>0</td>\n",
       "      <td>RENT</td>\n",
       "      <td>30000.0</td>\n",
       "      <td>...</td>\n",
       "      <td>3</td>\n",
       "      <td>0</td>\n",
       "      <td>1687</td>\n",
       "      <td>9.40%</td>\n",
       "      <td>4</td>\n",
       "      <td>0.0</td>\n",
       "      <td>60</td>\n",
       "      <td>Dec</td>\n",
       "      <td>2011</td>\n",
       "      <td>High</td>\n",
       "    </tr>\n",
       "    <tr>\n",
       "      <th>2</th>\n",
       "      <td>2400.0</td>\n",
       "      <td>2400.0</td>\n",
       "      <td>2400.0</td>\n",
       "      <td>15.96</td>\n",
       "      <td>84.33</td>\n",
       "      <td>C</td>\n",
       "      <td>C5</td>\n",
       "      <td>10</td>\n",
       "      <td>RENT</td>\n",
       "      <td>12252.0</td>\n",
       "      <td>...</td>\n",
       "      <td>2</td>\n",
       "      <td>0</td>\n",
       "      <td>2956</td>\n",
       "      <td>98.50%</td>\n",
       "      <td>10</td>\n",
       "      <td>0.0</td>\n",
       "      <td>36</td>\n",
       "      <td>Dec</td>\n",
       "      <td>2011</td>\n",
       "      <td>High</td>\n",
       "    </tr>\n",
       "    <tr>\n",
       "      <th>3</th>\n",
       "      <td>10000.0</td>\n",
       "      <td>10000.0</td>\n",
       "      <td>10000.0</td>\n",
       "      <td>13.49</td>\n",
       "      <td>339.31</td>\n",
       "      <td>C</td>\n",
       "      <td>C1</td>\n",
       "      <td>10</td>\n",
       "      <td>RENT</td>\n",
       "      <td>49200.0</td>\n",
       "      <td>...</td>\n",
       "      <td>10</td>\n",
       "      <td>0</td>\n",
       "      <td>5598</td>\n",
       "      <td>21%</td>\n",
       "      <td>37</td>\n",
       "      <td>0.0</td>\n",
       "      <td>36</td>\n",
       "      <td>Dec</td>\n",
       "      <td>2011</td>\n",
       "      <td>Medium</td>\n",
       "    </tr>\n",
       "    <tr>\n",
       "      <th>5</th>\n",
       "      <td>5000.0</td>\n",
       "      <td>5000.0</td>\n",
       "      <td>5000.0</td>\n",
       "      <td>7.90</td>\n",
       "      <td>156.46</td>\n",
       "      <td>A</td>\n",
       "      <td>A4</td>\n",
       "      <td>3</td>\n",
       "      <td>RENT</td>\n",
       "      <td>36000.0</td>\n",
       "      <td>...</td>\n",
       "      <td>9</td>\n",
       "      <td>0</td>\n",
       "      <td>7963</td>\n",
       "      <td>28.30%</td>\n",
       "      <td>12</td>\n",
       "      <td>0.0</td>\n",
       "      <td>36</td>\n",
       "      <td>Dec</td>\n",
       "      <td>2011</td>\n",
       "      <td>Low</td>\n",
       "    </tr>\n",
       "  </tbody>\n",
       "</table>\n",
       "<p>5 rows × 28 columns</p>\n",
       "</div>"
      ],
      "text/plain": [
       "   loan_amnt  funded_amnt  funded_amnt_inv  int_rate  installment grade  \\\n",
       "0     5000.0       5000.0           4975.0     10.65       162.87     B   \n",
       "1     2500.0       2500.0           2500.0     15.27        59.83     C   \n",
       "2     2400.0       2400.0           2400.0     15.96        84.33     C   \n",
       "3    10000.0      10000.0          10000.0     13.49       339.31     C   \n",
       "5     5000.0       5000.0           5000.0      7.90       156.46     A   \n",
       "\n",
       "  sub_grade  emp_length home_ownership  annual_inc  ... open_acc pub_rec  \\\n",
       "0        B2          10           RENT     24000.0  ...        3       0   \n",
       "1        C4           0           RENT     30000.0  ...        3       0   \n",
       "2        C5          10           RENT     12252.0  ...        2       0   \n",
       "3        C1          10           RENT     49200.0  ...       10       0   \n",
       "5        A4           3           RENT     36000.0  ...        9       0   \n",
       "\n",
       "  revol_bal revol_util  total_acc  pub_rec_bankruptcies term_in_months  \\\n",
       "0     13648     83.70%          9                   0.0             36   \n",
       "1      1687      9.40%          4                   0.0             60   \n",
       "2      2956     98.50%         10                   0.0             36   \n",
       "3      5598        21%         37                   0.0             36   \n",
       "5      7963     28.30%         12                   0.0             36   \n",
       "\n",
       "   month_issued  year_issued  rate_segment  \n",
       "0           Dec         2011        Medium  \n",
       "1           Dec         2011          High  \n",
       "2           Dec         2011          High  \n",
       "3           Dec         2011        Medium  \n",
       "5           Dec         2011           Low  \n",
       "\n",
       "[5 rows x 28 columns]"
      ]
     },
     "execution_count": 569,
     "metadata": {},
     "output_type": "execute_result"
    }
   ],
   "source": [
    "loan.head()"
   ]
  },
  {
   "cell_type": "code",
   "execution_count": 571,
   "id": "08327967-e2cd-4ff0-a36e-6a22921fd61d",
   "metadata": {},
   "outputs": [
    {
     "data": {
      "text/plain": [
       "count    36847.000000\n",
       "mean         4.961788\n",
       "std          3.551783\n",
       "min          0.000000\n",
       "25%          2.000000\n",
       "50%          4.000000\n",
       "75%          9.000000\n",
       "max         10.000000\n",
       "Name: emp_length, dtype: float64"
      ]
     },
     "execution_count": 571,
     "metadata": {},
     "output_type": "execute_result"
    }
   ],
   "source": [
    "loan.emp_length.describe()"
   ]
  },
  {
   "cell_type": "code",
   "execution_count": 573,
   "id": "0888f1ef-a8b8-4292-8077-3d013ef80113",
   "metadata": {},
   "outputs": [],
   "source": [
    "# Define bins and labels\n",
    "bins = [0, 3, 7, 10]\n",
    "labels = ['Associate', 'Default', 'Senior']\n",
    "\n",
    "# Create a new column with segments\n",
    "loan['employee_job_level'] = pd.cut(loan['emp_length'], bins=bins, labels=labels, include_lowest=True)"
   ]
  },
  {
   "cell_type": "code",
   "execution_count": 575,
   "id": "413f0e7c-ee4d-457c-982a-331eaefb3071",
   "metadata": {},
   "outputs": [
    {
     "data": {
      "text/html": [
       "<div>\n",
       "<style scoped>\n",
       "    .dataframe tbody tr th:only-of-type {\n",
       "        vertical-align: middle;\n",
       "    }\n",
       "\n",
       "    .dataframe tbody tr th {\n",
       "        vertical-align: top;\n",
       "    }\n",
       "\n",
       "    .dataframe thead th {\n",
       "        text-align: right;\n",
       "    }\n",
       "</style>\n",
       "<table border=\"1\" class=\"dataframe\">\n",
       "  <thead>\n",
       "    <tr style=\"text-align: right;\">\n",
       "      <th></th>\n",
       "      <th>loan_amnt</th>\n",
       "      <th>funded_amnt</th>\n",
       "      <th>funded_amnt_inv</th>\n",
       "      <th>int_rate</th>\n",
       "      <th>installment</th>\n",
       "      <th>grade</th>\n",
       "      <th>sub_grade</th>\n",
       "      <th>emp_length</th>\n",
       "      <th>home_ownership</th>\n",
       "      <th>annual_inc</th>\n",
       "      <th>...</th>\n",
       "      <th>pub_rec</th>\n",
       "      <th>revol_bal</th>\n",
       "      <th>revol_util</th>\n",
       "      <th>total_acc</th>\n",
       "      <th>pub_rec_bankruptcies</th>\n",
       "      <th>term_in_months</th>\n",
       "      <th>month_issued</th>\n",
       "      <th>year_issued</th>\n",
       "      <th>rate_segment</th>\n",
       "      <th>employee_job_level</th>\n",
       "    </tr>\n",
       "  </thead>\n",
       "  <tbody>\n",
       "    <tr>\n",
       "      <th>0</th>\n",
       "      <td>5000.0</td>\n",
       "      <td>5000.0</td>\n",
       "      <td>4975.0</td>\n",
       "      <td>10.65</td>\n",
       "      <td>162.87</td>\n",
       "      <td>B</td>\n",
       "      <td>B2</td>\n",
       "      <td>10</td>\n",
       "      <td>RENT</td>\n",
       "      <td>24000.0</td>\n",
       "      <td>...</td>\n",
       "      <td>0</td>\n",
       "      <td>13648</td>\n",
       "      <td>83.70%</td>\n",
       "      <td>9</td>\n",
       "      <td>0.0</td>\n",
       "      <td>36</td>\n",
       "      <td>Dec</td>\n",
       "      <td>2011</td>\n",
       "      <td>Medium</td>\n",
       "      <td>Senior</td>\n",
       "    </tr>\n",
       "    <tr>\n",
       "      <th>1</th>\n",
       "      <td>2500.0</td>\n",
       "      <td>2500.0</td>\n",
       "      <td>2500.0</td>\n",
       "      <td>15.27</td>\n",
       "      <td>59.83</td>\n",
       "      <td>C</td>\n",
       "      <td>C4</td>\n",
       "      <td>0</td>\n",
       "      <td>RENT</td>\n",
       "      <td>30000.0</td>\n",
       "      <td>...</td>\n",
       "      <td>0</td>\n",
       "      <td>1687</td>\n",
       "      <td>9.40%</td>\n",
       "      <td>4</td>\n",
       "      <td>0.0</td>\n",
       "      <td>60</td>\n",
       "      <td>Dec</td>\n",
       "      <td>2011</td>\n",
       "      <td>High</td>\n",
       "      <td>Associate</td>\n",
       "    </tr>\n",
       "    <tr>\n",
       "      <th>2</th>\n",
       "      <td>2400.0</td>\n",
       "      <td>2400.0</td>\n",
       "      <td>2400.0</td>\n",
       "      <td>15.96</td>\n",
       "      <td>84.33</td>\n",
       "      <td>C</td>\n",
       "      <td>C5</td>\n",
       "      <td>10</td>\n",
       "      <td>RENT</td>\n",
       "      <td>12252.0</td>\n",
       "      <td>...</td>\n",
       "      <td>0</td>\n",
       "      <td>2956</td>\n",
       "      <td>98.50%</td>\n",
       "      <td>10</td>\n",
       "      <td>0.0</td>\n",
       "      <td>36</td>\n",
       "      <td>Dec</td>\n",
       "      <td>2011</td>\n",
       "      <td>High</td>\n",
       "      <td>Senior</td>\n",
       "    </tr>\n",
       "    <tr>\n",
       "      <th>3</th>\n",
       "      <td>10000.0</td>\n",
       "      <td>10000.0</td>\n",
       "      <td>10000.0</td>\n",
       "      <td>13.49</td>\n",
       "      <td>339.31</td>\n",
       "      <td>C</td>\n",
       "      <td>C1</td>\n",
       "      <td>10</td>\n",
       "      <td>RENT</td>\n",
       "      <td>49200.0</td>\n",
       "      <td>...</td>\n",
       "      <td>0</td>\n",
       "      <td>5598</td>\n",
       "      <td>21%</td>\n",
       "      <td>37</td>\n",
       "      <td>0.0</td>\n",
       "      <td>36</td>\n",
       "      <td>Dec</td>\n",
       "      <td>2011</td>\n",
       "      <td>Medium</td>\n",
       "      <td>Senior</td>\n",
       "    </tr>\n",
       "    <tr>\n",
       "      <th>5</th>\n",
       "      <td>5000.0</td>\n",
       "      <td>5000.0</td>\n",
       "      <td>5000.0</td>\n",
       "      <td>7.90</td>\n",
       "      <td>156.46</td>\n",
       "      <td>A</td>\n",
       "      <td>A4</td>\n",
       "      <td>3</td>\n",
       "      <td>RENT</td>\n",
       "      <td>36000.0</td>\n",
       "      <td>...</td>\n",
       "      <td>0</td>\n",
       "      <td>7963</td>\n",
       "      <td>28.30%</td>\n",
       "      <td>12</td>\n",
       "      <td>0.0</td>\n",
       "      <td>36</td>\n",
       "      <td>Dec</td>\n",
       "      <td>2011</td>\n",
       "      <td>Low</td>\n",
       "      <td>Associate</td>\n",
       "    </tr>\n",
       "  </tbody>\n",
       "</table>\n",
       "<p>5 rows × 29 columns</p>\n",
       "</div>"
      ],
      "text/plain": [
       "   loan_amnt  funded_amnt  funded_amnt_inv  int_rate  installment grade  \\\n",
       "0     5000.0       5000.0           4975.0     10.65       162.87     B   \n",
       "1     2500.0       2500.0           2500.0     15.27        59.83     C   \n",
       "2     2400.0       2400.0           2400.0     15.96        84.33     C   \n",
       "3    10000.0      10000.0          10000.0     13.49       339.31     C   \n",
       "5     5000.0       5000.0           5000.0      7.90       156.46     A   \n",
       "\n",
       "  sub_grade  emp_length home_ownership  annual_inc  ... pub_rec revol_bal  \\\n",
       "0        B2          10           RENT     24000.0  ...       0     13648   \n",
       "1        C4           0           RENT     30000.0  ...       0      1687   \n",
       "2        C5          10           RENT     12252.0  ...       0      2956   \n",
       "3        C1          10           RENT     49200.0  ...       0      5598   \n",
       "5        A4           3           RENT     36000.0  ...       0      7963   \n",
       "\n",
       "  revol_util total_acc  pub_rec_bankruptcies  term_in_months month_issued  \\\n",
       "0     83.70%         9                   0.0              36          Dec   \n",
       "1      9.40%         4                   0.0              60          Dec   \n",
       "2     98.50%        10                   0.0              36          Dec   \n",
       "3        21%        37                   0.0              36          Dec   \n",
       "5     28.30%        12                   0.0              36          Dec   \n",
       "\n",
       "   year_issued  rate_segment  employee_job_level  \n",
       "0         2011        Medium              Senior  \n",
       "1         2011          High           Associate  \n",
       "2         2011          High              Senior  \n",
       "3         2011        Medium              Senior  \n",
       "5         2011           Low           Associate  \n",
       "\n",
       "[5 rows x 29 columns]"
      ]
     },
     "execution_count": 575,
     "metadata": {},
     "output_type": "execute_result"
    }
   ],
   "source": [
    "loan.head()"
   ]
  },
  {
   "cell_type": "code",
   "execution_count": 579,
   "id": "8a9fae87-d538-466a-a0f4-6fe15335c317",
   "metadata": {},
   "outputs": [
    {
     "data": {
      "text/plain": [
       "6000000.0"
      ]
     },
     "execution_count": 579,
     "metadata": {},
     "output_type": "execute_result"
    }
   ],
   "source": [
    "loan.annual_inc.max()"
   ]
  },
  {
   "cell_type": "code",
   "execution_count": 581,
   "id": "4d55968c-5e66-42bf-b9de-23799230c3a4",
   "metadata": {},
   "outputs": [
    {
     "data": {
      "text/plain": [
       "4000.0"
      ]
     },
     "execution_count": 581,
     "metadata": {},
     "output_type": "execute_result"
    }
   ],
   "source": [
    "loan.annual_inc.min()"
   ]
  },
  {
   "cell_type": "code",
   "execution_count": 585,
   "id": "189fd346-cdf1-454f-a5a9-e2031d125baf",
   "metadata": {},
   "outputs": [],
   "source": [
    "# Define bins and labels\n",
    "bins = [0, 100000.00, 500000.00,1000000.00,10000000.00]\n",
    "labels = ['Low', 'Middle', 'Upper_Middle','Upper']\n",
    "\n",
    "# Create a new column with segments\n",
    "loan['income_segment'] = pd.cut(loan['annual_inc'], bins=bins, labels=labels, include_lowest=True)"
   ]
  },
  {
   "cell_type": "code",
   "execution_count": 587,
   "id": "e2f970f0-8e7d-4c18-8d2c-94506c8da374",
   "metadata": {},
   "outputs": [
    {
     "data": {
      "text/html": [
       "<div>\n",
       "<style scoped>\n",
       "    .dataframe tbody tr th:only-of-type {\n",
       "        vertical-align: middle;\n",
       "    }\n",
       "\n",
       "    .dataframe tbody tr th {\n",
       "        vertical-align: top;\n",
       "    }\n",
       "\n",
       "    .dataframe thead th {\n",
       "        text-align: right;\n",
       "    }\n",
       "</style>\n",
       "<table border=\"1\" class=\"dataframe\">\n",
       "  <thead>\n",
       "    <tr style=\"text-align: right;\">\n",
       "      <th></th>\n",
       "      <th>loan_amnt</th>\n",
       "      <th>funded_amnt</th>\n",
       "      <th>funded_amnt_inv</th>\n",
       "      <th>int_rate</th>\n",
       "      <th>installment</th>\n",
       "      <th>grade</th>\n",
       "      <th>sub_grade</th>\n",
       "      <th>emp_length</th>\n",
       "      <th>home_ownership</th>\n",
       "      <th>annual_inc</th>\n",
       "      <th>...</th>\n",
       "      <th>revol_bal</th>\n",
       "      <th>revol_util</th>\n",
       "      <th>total_acc</th>\n",
       "      <th>pub_rec_bankruptcies</th>\n",
       "      <th>term_in_months</th>\n",
       "      <th>month_issued</th>\n",
       "      <th>year_issued</th>\n",
       "      <th>rate_segment</th>\n",
       "      <th>employee_job_level</th>\n",
       "      <th>income_segment</th>\n",
       "    </tr>\n",
       "  </thead>\n",
       "  <tbody>\n",
       "    <tr>\n",
       "      <th>0</th>\n",
       "      <td>5000.0</td>\n",
       "      <td>5000.0</td>\n",
       "      <td>4975.0</td>\n",
       "      <td>10.65</td>\n",
       "      <td>162.87</td>\n",
       "      <td>B</td>\n",
       "      <td>B2</td>\n",
       "      <td>10</td>\n",
       "      <td>RENT</td>\n",
       "      <td>24000.0</td>\n",
       "      <td>...</td>\n",
       "      <td>13648</td>\n",
       "      <td>83.70%</td>\n",
       "      <td>9</td>\n",
       "      <td>0.0</td>\n",
       "      <td>36</td>\n",
       "      <td>Dec</td>\n",
       "      <td>2011</td>\n",
       "      <td>Medium</td>\n",
       "      <td>Senior</td>\n",
       "      <td>Low</td>\n",
       "    </tr>\n",
       "    <tr>\n",
       "      <th>1</th>\n",
       "      <td>2500.0</td>\n",
       "      <td>2500.0</td>\n",
       "      <td>2500.0</td>\n",
       "      <td>15.27</td>\n",
       "      <td>59.83</td>\n",
       "      <td>C</td>\n",
       "      <td>C4</td>\n",
       "      <td>0</td>\n",
       "      <td>RENT</td>\n",
       "      <td>30000.0</td>\n",
       "      <td>...</td>\n",
       "      <td>1687</td>\n",
       "      <td>9.40%</td>\n",
       "      <td>4</td>\n",
       "      <td>0.0</td>\n",
       "      <td>60</td>\n",
       "      <td>Dec</td>\n",
       "      <td>2011</td>\n",
       "      <td>High</td>\n",
       "      <td>Associate</td>\n",
       "      <td>Low</td>\n",
       "    </tr>\n",
       "    <tr>\n",
       "      <th>2</th>\n",
       "      <td>2400.0</td>\n",
       "      <td>2400.0</td>\n",
       "      <td>2400.0</td>\n",
       "      <td>15.96</td>\n",
       "      <td>84.33</td>\n",
       "      <td>C</td>\n",
       "      <td>C5</td>\n",
       "      <td>10</td>\n",
       "      <td>RENT</td>\n",
       "      <td>12252.0</td>\n",
       "      <td>...</td>\n",
       "      <td>2956</td>\n",
       "      <td>98.50%</td>\n",
       "      <td>10</td>\n",
       "      <td>0.0</td>\n",
       "      <td>36</td>\n",
       "      <td>Dec</td>\n",
       "      <td>2011</td>\n",
       "      <td>High</td>\n",
       "      <td>Senior</td>\n",
       "      <td>Low</td>\n",
       "    </tr>\n",
       "    <tr>\n",
       "      <th>3</th>\n",
       "      <td>10000.0</td>\n",
       "      <td>10000.0</td>\n",
       "      <td>10000.0</td>\n",
       "      <td>13.49</td>\n",
       "      <td>339.31</td>\n",
       "      <td>C</td>\n",
       "      <td>C1</td>\n",
       "      <td>10</td>\n",
       "      <td>RENT</td>\n",
       "      <td>49200.0</td>\n",
       "      <td>...</td>\n",
       "      <td>5598</td>\n",
       "      <td>21%</td>\n",
       "      <td>37</td>\n",
       "      <td>0.0</td>\n",
       "      <td>36</td>\n",
       "      <td>Dec</td>\n",
       "      <td>2011</td>\n",
       "      <td>Medium</td>\n",
       "      <td>Senior</td>\n",
       "      <td>Low</td>\n",
       "    </tr>\n",
       "    <tr>\n",
       "      <th>5</th>\n",
       "      <td>5000.0</td>\n",
       "      <td>5000.0</td>\n",
       "      <td>5000.0</td>\n",
       "      <td>7.90</td>\n",
       "      <td>156.46</td>\n",
       "      <td>A</td>\n",
       "      <td>A4</td>\n",
       "      <td>3</td>\n",
       "      <td>RENT</td>\n",
       "      <td>36000.0</td>\n",
       "      <td>...</td>\n",
       "      <td>7963</td>\n",
       "      <td>28.30%</td>\n",
       "      <td>12</td>\n",
       "      <td>0.0</td>\n",
       "      <td>36</td>\n",
       "      <td>Dec</td>\n",
       "      <td>2011</td>\n",
       "      <td>Low</td>\n",
       "      <td>Associate</td>\n",
       "      <td>Low</td>\n",
       "    </tr>\n",
       "  </tbody>\n",
       "</table>\n",
       "<p>5 rows × 30 columns</p>\n",
       "</div>"
      ],
      "text/plain": [
       "   loan_amnt  funded_amnt  funded_amnt_inv  int_rate  installment grade  \\\n",
       "0     5000.0       5000.0           4975.0     10.65       162.87     B   \n",
       "1     2500.0       2500.0           2500.0     15.27        59.83     C   \n",
       "2     2400.0       2400.0           2400.0     15.96        84.33     C   \n",
       "3    10000.0      10000.0          10000.0     13.49       339.31     C   \n",
       "5     5000.0       5000.0           5000.0      7.90       156.46     A   \n",
       "\n",
       "  sub_grade  emp_length home_ownership  annual_inc  ... revol_bal revol_util  \\\n",
       "0        B2          10           RENT     24000.0  ...     13648     83.70%   \n",
       "1        C4           0           RENT     30000.0  ...      1687      9.40%   \n",
       "2        C5          10           RENT     12252.0  ...      2956     98.50%   \n",
       "3        C1          10           RENT     49200.0  ...      5598        21%   \n",
       "5        A4           3           RENT     36000.0  ...      7963     28.30%   \n",
       "\n",
       "  total_acc pub_rec_bankruptcies  term_in_months  month_issued year_issued  \\\n",
       "0         9                  0.0              36           Dec        2011   \n",
       "1         4                  0.0              60           Dec        2011   \n",
       "2        10                  0.0              36           Dec        2011   \n",
       "3        37                  0.0              36           Dec        2011   \n",
       "5        12                  0.0              36           Dec        2011   \n",
       "\n",
       "   rate_segment  employee_job_level  income_segment  \n",
       "0        Medium              Senior             Low  \n",
       "1          High           Associate             Low  \n",
       "2          High              Senior             Low  \n",
       "3        Medium              Senior             Low  \n",
       "5           Low           Associate             Low  \n",
       "\n",
       "[5 rows x 30 columns]"
      ]
     },
     "execution_count": 587,
     "metadata": {},
     "output_type": "execute_result"
    }
   ],
   "source": [
    "loan.head()"
   ]
  },
  {
   "cell_type": "code",
   "execution_count": 601,
   "id": "91367ad4-a540-480b-8a6a-797413b2cd1c",
   "metadata": {},
   "outputs": [
    {
     "data": {
      "image/png": "[encoded data removed]",
      "text/plain": [
       "<Figure size 2000x1600 with 1 Axes>"
      ]
     },
     "metadata": {},
     "output_type": "display_data"
    }
   ],
   "source": [
    "#Visualizing income_segment\n",
    "fig, ax = plt.subplots(figsize = (20,16))\n",
    "sns.countplot(x = 'income_segment', data = loan,hue ='loan_status')\n",
    "plt.yscale('log')\n",
    "plt.show()"
   ]
  },
  {
   "cell_type": "code",
   "execution_count": 599,
   "id": "8e77e02d-2f97-440e-ab6d-adb35ad95026",
   "metadata": {},
   "outputs": [
    {
     "data": {
      "text/plain": [
       "<Axes: xlabel='year_issued', ylabel='count'>"
      ]
     },
     "execution_count": 599,
     "metadata": {},
     "output_type": "execute_result"
    },
    {
     "data": {
      "image/png": "[encoded data removed]",
      "text/plain": [
       "<Figure size 1500x1500 with 1 Axes>"
      ]
     },
     "metadata": {},
     "output_type": "display_data"
    }
   ],
   "source": [
    "plt.figure(figsize=(15,15))\n",
    "sns.countplot(x='year_issued',data=loan,hue ='loan_status')"
   ]
  },
  {
   "cell_type": "code",
   "execution_count": null,
   "id": "76741cb3-ddbd-46dc-ba13-0a8d7147c22c",
   "metadata": {},
   "outputs": [],
   "source": []
  }
 ],
 "metadata": {
  "kernelspec": {
   "display_name": "Python 3 (ipykernel)",
   "language": "python",
   "name": "python3"
  },
  "language_info": {
   "codemirror_mode": {
    "name": "ipython",
    "version": 3
   },
   "file_extension": ".py",
   "mimetype": "text/x-python",
   "name": "python",
   "nbconvert_exporter": "python",
   "pygments_lexer": "ipython3",
   "version": "3.11.7"
  }
 },
 "nbformat": 4,
 "nbformat_minor": 5
}
